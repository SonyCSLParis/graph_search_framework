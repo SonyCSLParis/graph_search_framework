{
 "cells": [
  {
   "cell_type": "markdown",
   "metadata": {},
   "source": [
    "# EventKG - Extracting info for one event\n",
    "\n",
    "The aim of the notebook is to automatically retrieve info for one event, and esp. the ground truth for EventKG.\n",
    "\n",
    "Before running the notebook, ensure to have the followings:\n",
    "* EventKG downloaded and preprocessed, cf. `eventkg-filtering.ipynb`\n",
    "* Subset of EventKG loaded in [GraphDB](https://graphdb.ontotext.com)\n",
    "* GraphDB endpoint active (Repositories name `eventkg`)"
   ]
  },
  {
   "cell_type": "code",
   "execution_count": 1,
   "metadata": {},
   "outputs": [],
   "source": [
    "import io\n",
    "import os\n",
    "import json\n",
    "import yaml\n",
    "import requests\n",
    "import psutil\n",
    "from tqdm import tqdm\n",
    "\n",
    "import wandb\n",
    "\n",
    "import pandas as pd\n",
    "from settings import FOLDER_PATH, WANDB_USER"
   ]
  },
  {
   "cell_type": "code",
   "execution_count": 26,
   "metadata": {},
   "outputs": [],
   "source": [
    "HEADERS = {\n",
    "    \"Accept\": \"text/csv\"\n",
    "}\n",
    "\n",
    "ENDPOINT = \"http://localhost:7200/repositories/eventkg\"\n",
    "\n",
    "# Folder where data necessary to run experiments will be saved\n",
    "# This folder should contain the following sub folders: `config`, `gs_events` and `referents`\n",
    "FOLDER_SAVE_DATA = os.path.join(FOLDER_PATH, \"data-ind\")\n",
    "\n",
    "NB_CPUS = psutil.cpu_count(logical=False)\n",
    "\n",
    "EVENT = \"http://dbpedia.org/resource/2020_United_States_presidential_election\" "
   ]
  },
  {
   "cell_type": "markdown",
   "metadata": {},
   "source": [
    "## 1. Retrieving info for the input event\n",
    "\n",
    "* Ground truth events from EventKG \n",
    "* Referents (URI mapping)\n",
    "* Start/End dates\n"
   ]
  },
  {
   "cell_type": "markdown",
   "metadata": {},
   "source": [
    "### 1.1. Ground truth for each event\n",
    "\n",
    "Ground truth = event part of that event in EventKG"
   ]
  },
  {
   "cell_type": "code",
   "execution_count": 27,
   "metadata": {},
   "outputs": [],
   "source": [
    "QUERY_GROUND_TRUTH_TEMPLATE = \"\"\"\n",
    "PREFIX sem: <http://semanticweb.cs.vu.nl/2009/11/sem/>\n",
    "PREFIX owl: <http://www.w3.org/2002/07/owl#>\n",
    "SELECT DISTINCT(?subEventKG as ?linkDBpediaEn)\n",
    "WHERE {\n",
    "    \n",
    "?event owl:sameAs <event-to-replace> .\n",
    "?event sem:hasSubEvent* ?subEvent .\n",
    "?subEvent owl:sameAs ?subEventKG .\n",
    "    \n",
    "?event sem:hasBeginTimeStamp ?startTimeEvent .\n",
    "?event sem:hasEndTimeStamp ?endTimeEvent .\n",
    "\n",
    "?subEvent sem:hasBeginTimeStamp ?startTimeSubEvent .\n",
    "?subEvent sem:hasEndTimeStamp ?endTimeSubEvent .\n",
    "    \n",
    "FILTER( strStarts( str(?subEventKG), \"http://dbpedia\" ) ) .\n",
    "FILTER (?endTimeSubEvent >= ?startTimeEvent) .\n",
    "FILTER (?startTimeSubEvent <= ?endTimeEvent) .\n",
    "}\n",
    "\"\"\""
   ]
  },
  {
   "cell_type": "code",
   "execution_count": 29,
   "metadata": {},
   "outputs": [
    {
     "data": {
      "text/html": [
       "<div>\n",
       "<style scoped>\n",
       "    .dataframe tbody tr th:only-of-type {\n",
       "        vertical-align: middle;\n",
       "    }\n",
       "\n",
       "    .dataframe tbody tr th {\n",
       "        vertical-align: top;\n",
       "    }\n",
       "\n",
       "    .dataframe thead th {\n",
       "        text-align: right;\n",
       "    }\n",
       "</style>\n",
       "<table border=\"1\" class=\"dataframe\">\n",
       "  <thead>\n",
       "    <tr style=\"text-align: right;\">\n",
       "      <th></th>\n",
       "      <th>linkDBpediaEn</th>\n",
       "    </tr>\n",
       "  </thead>\n",
       "  <tbody>\n",
       "    <tr>\n",
       "      <th>0</th>\n",
       "      <td>http://dbpedia.org/resource/2020_United_States...</td>\n",
       "    </tr>\n",
       "    <tr>\n",
       "      <th>1</th>\n",
       "      <td>http://dbpedia.org/resource/2020_United_States...</td>\n",
       "    </tr>\n",
       "    <tr>\n",
       "      <th>2</th>\n",
       "      <td>http://dbpedia.org/resource/2020_United_States...</td>\n",
       "    </tr>\n",
       "    <tr>\n",
       "      <th>3</th>\n",
       "      <td>http://dbpedia.org/resource/2020_United_States...</td>\n",
       "    </tr>\n",
       "    <tr>\n",
       "      <th>4</th>\n",
       "      <td>http://dbpedia.org/resource/2020_United_States...</td>\n",
       "    </tr>\n",
       "    <tr>\n",
       "      <th>5</th>\n",
       "      <td>http://dbpedia.org/resource/2020_United_States...</td>\n",
       "    </tr>\n",
       "    <tr>\n",
       "      <th>6</th>\n",
       "      <td>http://dbpedia.org/resource/2020_United_States...</td>\n",
       "    </tr>\n",
       "    <tr>\n",
       "      <th>7</th>\n",
       "      <td>http://dbpedia.org/resource/2020_United_States...</td>\n",
       "    </tr>\n",
       "    <tr>\n",
       "      <th>8</th>\n",
       "      <td>http://dbpedia.org/resource/2020_United_States...</td>\n",
       "    </tr>\n",
       "    <tr>\n",
       "      <th>9</th>\n",
       "      <td>http://dbpedia.org/resource/2020_United_States...</td>\n",
       "    </tr>\n",
       "  </tbody>\n",
       "</table>\n",
       "</div>"
      ],
      "text/plain": [
       "                                       linkDBpediaEn\n",
       "0  http://dbpedia.org/resource/2020_United_States...\n",
       "1  http://dbpedia.org/resource/2020_United_States...\n",
       "2  http://dbpedia.org/resource/2020_United_States...\n",
       "3  http://dbpedia.org/resource/2020_United_States...\n",
       "4  http://dbpedia.org/resource/2020_United_States...\n",
       "5  http://dbpedia.org/resource/2020_United_States...\n",
       "6  http://dbpedia.org/resource/2020_United_States...\n",
       "7  http://dbpedia.org/resource/2020_United_States...\n",
       "8  http://dbpedia.org/resource/2020_United_States...\n",
       "9  http://dbpedia.org/resource/2020_United_States..."
      ]
     },
     "execution_count": 29,
     "metadata": {},
     "output_type": "execute_result"
    }
   ],
   "source": [
    "query = QUERY_GROUND_TRUTH_TEMPLATE.replace(\n",
    "    \"event-to-replace\", EVENT\n",
    ")\n",
    "response = requests.get(ENDPOINT, headers=HEADERS,\n",
    "                        params={\"query\": query})\n",
    "df_sub_event = pd.read_csv(io.StringIO(response.content.decode('utf-8'))) \n",
    "df_sub_event.to_csv(os.path.join(FOLDER_SAVE_DATA, f\"{EVENT.split('/')[-1]}.csv\"))\n",
    "df_sub_event.head(10)\n",
    "        "
   ]
  },
  {
   "cell_type": "markdown",
   "metadata": {},
   "source": [
    "### 1.2. URI referents for each sub event\n",
    "\n",
    "Due to differences in dataset version, URIs can vary over time, the aim of this section is to retrieve a unique ID referent for each set of URIs.\n"
   ]
  },
  {
   "cell_type": "code",
   "execution_count": 30,
   "metadata": {},
   "outputs": [],
   "source": [
    "from src.get_equivalent_url import get_equivalent_url"
   ]
  },
  {
   "cell_type": "code",
   "execution_count": 31,
   "metadata": {},
   "outputs": [
    {
     "name": "stderr",
     "output_type": "stream",
     "text": [
      "100%|██████████| 54/54 [00:10<00:00,  4.99it/s]\n"
     ]
    }
   ],
   "source": [
    "get_equivalent_url(os.path.join(FOLDER_SAVE_DATA, f\"{EVENT.split('/')[-1]}.csv\"),\n",
    "                   os.path.join(FOLDER_SAVE_DATA, f\"{EVENT.split('/')[-1]}.json\"))"
   ]
  },
  {
   "cell_type": "markdown",
   "metadata": {},
   "source": [
    "### 2.3. Start and End dates of each event\n",
    "\n",
    "Minimum start date among all start dates, maximum end date among all end dates.\n",
    "\n",
    "Start date must be before end date."
   ]
  },
  {
   "cell_type": "code",
   "execution_count": 32,
   "metadata": {},
   "outputs": [],
   "source": [
    "QUERY_DATES_TEMPLATE = \"\"\"\n",
    "PREFIX sem: <http://semanticweb.cs.vu.nl/2009/11/sem/>\n",
    "PREFIX owl: <http://www.w3.org/2002/07/owl#>\n",
    "SELECT (min(?startTimeEvent) as ?min) (max(?endTimeEvent) as ?max)\n",
    "WHERE {\n",
    "    \n",
    " ?event owl:sameAs <event-to-replace> .\n",
    " ?event sem:hasSubEvent* ?subEvent .\n",
    " ?event sem:hasBeginTimeStamp ?startTimeEvent .\n",
    " ?event sem:hasEndTimeStamp ?endTimeEvent .\n",
    " ?event owl:sameAs ?eventKG .\n",
    "\n",
    " FILTER( strStarts( str(?eventKG), \"http://dbpedia\" ) ) .\n",
    "}\n",
    "GROUP BY ?eventKG\n",
    "HAVING (max(?endTimeEvent) >= min(?startTimeEvent))\n",
    "\"\"\""
   ]
  },
  {
   "cell_type": "code",
   "execution_count": 33,
   "metadata": {},
   "outputs": [],
   "source": [
    "def get_dates(event):\n",
    "    query = QUERY_DATES_TEMPLATE.replace(\n",
    "        \"event-to-replace\", event)\n",
    "    response = requests.get(ENDPOINT, headers=HEADERS,\n",
    "                        params={\"query\": query})\n",
    "    return pd.read_csv(io.StringIO(response.content.decode('utf-8')))"
   ]
  },
  {
   "cell_type": "code",
   "execution_count": 34,
   "metadata": {},
   "outputs": [
    {
     "data": {
      "text/html": [
       "<div>\n",
       "<style scoped>\n",
       "    .dataframe tbody tr th:only-of-type {\n",
       "        vertical-align: middle;\n",
       "    }\n",
       "\n",
       "    .dataframe tbody tr th {\n",
       "        vertical-align: top;\n",
       "    }\n",
       "\n",
       "    .dataframe thead th {\n",
       "        text-align: right;\n",
       "    }\n",
       "</style>\n",
       "<table border=\"1\" class=\"dataframe\">\n",
       "  <thead>\n",
       "    <tr style=\"text-align: right;\">\n",
       "      <th></th>\n",
       "      <th>min</th>\n",
       "      <th>max</th>\n",
       "    </tr>\n",
       "  </thead>\n",
       "  <tbody>\n",
       "    <tr>\n",
       "      <th>0</th>\n",
       "      <td>2020-11-03</td>\n",
       "      <td>2020-11-03</td>\n",
       "    </tr>\n",
       "  </tbody>\n",
       "</table>\n",
       "</div>"
      ],
      "text/plain": [
       "          min         max\n",
       "0  2020-11-03  2020-11-03"
      ]
     },
     "execution_count": 34,
     "metadata": {},
     "output_type": "execute_result"
    }
   ],
   "source": [
    "result = get_dates(EVENT)\n",
    "result"
   ]
  },
  {
   "cell_type": "code",
   "execution_count": 35,
   "metadata": {},
   "outputs": [],
   "source": [
    "def store_changing_config(dico):\n",
    "    name = EVENT.split(\"/\")[-1]\n",
    "    dico = {\n",
    "        \"start\": EVENT,\n",
    "        \"start_date\": result[\"min\"].values[0],\n",
    "        \"end_date\": result[\"max\"].values[0],\n",
    "        \"gold_standard\": os.path.join(FOLDER_SAVE_DATA, f\"{name}.csv\"),\n",
    "        \"referents\": os.path.join(FOLDER_SAVE_DATA, f\"{name}.json\"),\n",
    "        \"name_exp\": name,\n",
    "    }\n",
    "    return dico\n",
    "\n",
    "dico_config = store_changing_config(dico={})"
   ]
  },
  {
   "cell_type": "code",
   "execution_count": 36,
   "metadata": {},
   "outputs": [
    {
     "data": {
      "text/plain": [
       "{'start': 'http://dbpedia.org/resource/2020_United_States_presidential_election',\n",
       " 'start_date': '2020-11-03',\n",
       " 'end_date': '2020-11-03',\n",
       " 'gold_standard': '/Users/ines/Projects/graph_search_framework/data-ind/2020_United_States_presidential_election.csv',\n",
       " 'referents': '/Users/ines/Projects/graph_search_framework/data-ind/2020_United_States_presidential_election.json',\n",
       " 'name_exp': '2020_United_States_presidential_election'}"
      ]
     },
     "execution_count": 36,
     "metadata": {},
     "output_type": "execute_result"
    }
   ],
   "source": [
    "dico_config"
   ]
  },
  {
   "cell_type": "markdown",
   "metadata": {},
   "source": [
    "## 3. Prepare configuration files for sweep for each event"
   ]
  },
  {
   "cell_type": "code",
   "execution_count": 21,
   "metadata": {},
   "outputs": [],
   "source": [
    "BASE_CONFIG = {\n",
    "    \"rdf_type\": {\n",
    "        \"event\": \"http://dbpedia.org/ontology/Event\"\n",
    "    },\n",
    "    \"predicate_filter\": [\"http://dbpedia.org/ontology/wikiPageWikiLink\",\n",
    "                         \"http://dbpedia.org/ontology/wikiPageRedirects\",\n",
    "                         \"http://dbpedia.org/ontology/wikiPageDisambiguates\",\n",
    "                         \"http://www.w3.org/2000/01/rdf-schema#seeAlso\",\n",
    "                         \"http://xmlns.com/foaf/0.1/depiction\",\n",
    "                         \"http://xmlns.com/foaf/0.1/isPrimaryTopicOf\",\n",
    "                         \"http://dbpedia.org/ontology/thumbnail\",\n",
    "                         \"http://dbpedia.org/ontology/wikiPageExternalLink\",\n",
    "                         \"http://dbpedia.org/ontology/wikiPageID\",\n",
    "                         \"http://dbpedia.org/ontology/wikiPageLength\",\n",
    "                         \"http://dbpedia.org/ontology/wikiPageRevisionID\",\n",
    "                         \"http://dbpedia.org/property/wikiPageUsesTemplate\",\n",
    "                         \"http://www.w3.org/2002/07/owl#sameAs\",\n",
    "                         \"http://www.w3.org/ns/prov#wasDerivedFrom\",\n",
    "                         \"http://dbpedia.org/ontology/wikiPageWikiLinkText\",\n",
    "                         \"http://dbpedia.org/ontology/wikiPageOutDegree\",\n",
    "                         \"http://dbpedia.org/ontology/abstract\",\n",
    "                         \"http://www.w3.org/2000/01/rdf-schema#comment\",\n",
    "                         \"http://www.w3.org/2000/01/rdf-schema#label\"],\n",
    "    \"start\": \"http://dbpedia.org/resource/WTA_Tier_II_tournaments\",\n",
    "    \"start_date\": \"1990-01-01\",\n",
    "    \"end_date\": \"2008-12-31\",\n",
    "    \"iterations\": 50,\n",
    "    \"type_ranking\": \"pred_object_freq\",\n",
    "    \"type_interface\": \"hdt\",\n",
    "    \"gold_standard\": \"./data/gs_events/events_WTA_Tier_II_tournaments.csv\",\n",
    "    \"referents\": \"./data/referents/referents_WTA_Tier_II_tournaments.json\",\n",
    "    \"type_metrics\": [\"precision\", \"recall\", \"f1\"],\n",
    "    \"ordering\": {\n",
    "        \"domain_range\": 1\n",
    "    },\n",
    "    \"filtering\": {\n",
    "        \"what\": 1,\n",
    "        \"where\": 1,\n",
    "        \"when\": 1\n",
    "    },\n",
    "    \"name_exp\": \"wta_tier_ii_tournament\"\n",
    "}"
   ]
  },
  {
   "cell_type": "code",
   "execution_count": 22,
   "metadata": {},
   "outputs": [],
   "source": [
    "name = EVENT.split(\"/\")[-1]\n",
    "BASE_CONFIG.update(dico_config)\n",
    "with open(os.path.join(FOLDER_SAVE_DATA, f\"config_{name}.json\"), \"w\", encoding='utf-8') as openfile:\n",
    "    json.dump(BASE_CONFIG, openfile, indent=4)"
   ]
  },
  {
   "cell_type": "markdown",
   "metadata": {},
   "source": [
    "## 4. Run weights & biases sweep for each event"
   ]
  },
  {
   "cell_type": "code",
   "execution_count": 15,
   "metadata": {},
   "outputs": [],
   "source": [
    "with open(os.path.join(FOLDER_PATH, \"graph_search_sweep.yaml\")) as file:\n",
    "    WANDB_SWEEP_CONFIG = yaml.load(file, Loader=yaml.FullLoader)"
   ]
  },
  {
   "cell_type": "code",
   "execution_count": 16,
   "metadata": {},
   "outputs": [
    {
     "name": "stdout",
     "output_type": "stream",
     "text": [
      "Create sweep with ID: typjj4by\n",
      "Sweep URL: https://wandb.ai/ines-blin/event-graph-search-framework/sweeps/typjj4by\n"
     ]
    }
   ],
   "source": [
    "name = EVENT.split(\"/\")[-1]\n",
    "WANDB_SWEEP_CONFIG[\"parameters\"][\"json\"][\"value\"] = \\\n",
    "    os.path.join(FOLDER_SAVE_DATA, f\"config_{name}.json\")\n",
    "WANDB_SWEEP_CONFIG[\"name\"] = EVENT.split(\"/\")[-1]\n",
    "\n",
    "sweep_id = wandb.sweep(WANDB_SWEEP_CONFIG, project=WANDB_SWEEP_CONFIG[\"project\"])"
   ]
  },
  {
   "cell_type": "code",
   "execution_count": 17,
   "metadata": {},
   "outputs": [
    {
     "name": "stdout",
     "output_type": "stream",
     "text": [
      "wandb: Agent Starting Run: 61ehq2rh with config:\n",
      "\tfiltering_when: 0\n",
      "\tjson: /Users/ines/Projects/graph_search_framework/data-ind/config_2014_United_States_House_of_Representatives_elections.json\n",
      "\tordering_domain_range: 0\n",
      "\ttype_ranking: pred_object_freq\n",
      "wandb: Agent Starting Run: 2d928zci with config:\n",
      "\tfiltering_when: 0\n",
      "\tjson: /Users/ines/Projects/graph_search_framework/data-ind/config_2014_United_States_House_of_Representatives_elections.json\n",
      "\tordering_domain_range: 0\n",
      "\ttype_ranking: entropy_pred_object_freq\n",
      "wandb: Agent Starting Run: grg3mw7r with config:\n",
      "\tfiltering_when: 0\n",
      "\tjson: /Users/ines/Projects/graph_search_framework/data-ind/config_2014_United_States_House_of_Representatives_elections.json\n",
      "\tordering_domain_range: 1\n",
      "\ttype_ranking: pred_object_freq\n"
     ]
    },
    {
     "name": "stderr",
     "output_type": "stream",
     "text": [
      "wandb: Currently logged in as: ines-blin (use `wandb login --relogin` to force relogin)\n",
      "wandb: WARNING Ignored wandb.init() arg project when running a sweep.\n",
      "wandb: Tracking run with wandb version 0.12.15\n",
      "wandb: Run data is saved locally in /Users/ines/Projects/graph_search_framework/wandb/run-20220429_105048-grg3mw7r\n",
      "wandb: Run `wandb offline` to turn off syncing.\n",
      "wandb: Syncing run 2014_United_States_House_of_Representatives_elections_pred_object_freq_domain_range_what_where_\n",
      "wandb: ⭐️ View project at https://wandb.ai/ines-blin/event-graph-search-framework\n",
      "wandb: 🧹 View sweep at https://wandb.ai/ines-blin/event-graph-search-framework/sweeps/typjj4by\n",
      "wandb: 🚀 View run at https://wandb.ai/ines-blin/event-graph-search-framework/runs/grg3mw7r\n",
      "100% 1/1 [00:00<00:00, 29.76it/s]\n",
      "  0% 0/7 [00:00<?, ?it/s]"
     ]
    },
    {
     "name": "stdout",
     "output_type": "stream",
     "text": [
      "Processing node 1/1\thttp://dbpedia.org/resource/2014_United_States_House_of_Representatives_elections\n"
     ]
    },
    {
     "name": "stderr",
     "output_type": "stream",
     "text": [
      "100% 7/7 [00:00<00:00, 35.42it/s]\n",
      "/Users/ines/Projects/graph_search_framework/src/filtering.py:94: SettingWithCopyWarning: \n",
      "A value is trying to be set on a copy of a slice from a DataFrame.\n",
      "Try using .loc[row_indexer,col_indexer] = value instead\n",
      "\n",
      "See the caveats in the documentation: https://pandas.pydata.org/pandas-docs/stable/user_guide/indexing.html#returning-a-view-versus-a-copy\n",
      "  date_df.object = date_df.object.astype(str)\n",
      "100% 1/1 [00:00<00:00, 17.60it/s]\n",
      "100% 6/6 [00:00<00:00, 23.16it/s]\n",
      "wandb: Waiting for W&B process to finish... (success).\n",
      "wandb:                                                                                \n",
      "wandb: \n",
      "wandb: Run history:\n",
      "wandb:                       f1 ▁\n",
      "wandb:                precision ▁\n",
      "wandb:                   recall ▁\n",
      "wandb:        subgraph_nb_event ▁\n",
      "wandb: subgraph_nb_event_unique ▁\n",
      "wandb: \n",
      "wandb: Run summary:\n",
      "wandb:                       f1 0.0\n",
      "wandb:                precision 0.0\n",
      "wandb:                   recall 0.0\n",
      "wandb:        subgraph_nb_event 1\n",
      "wandb: subgraph_nb_event_unique 1\n",
      "wandb: \n",
      "wandb: Synced 2014_United_States_House_of_Representatives_elections_pred_object_freq_domain_range_what_where_: https://wandb.ai/ines-blin/event-graph-search-framework/runs/grg3mw7r\n",
      "wandb: Synced 6 W&B file(s), 0 media file(s), 0 artifact file(s) and 0 other file(s)\n",
      "wandb: Find logs at: ./wandb/run-20220429_105048-grg3mw7r/logs\n"
     ]
    },
    {
     "name": "stdout",
     "output_type": "stream",
     "text": [
      "wandb: Agent Starting Run: jtjlemoo with config:\n",
      "\tfiltering_when: 0\n",
      "\tjson: /Users/ines/Projects/graph_search_framework/data-ind/config_2014_United_States_House_of_Representatives_elections.json\n",
      "\tordering_domain_range: 1\n",
      "\ttype_ranking: entropy_pred_object_freq\n"
     ]
    },
    {
     "name": "stderr",
     "output_type": "stream",
     "text": [
      "wandb: Currently logged in as: ines-blin (use `wandb login --relogin` to force relogin)\n",
      "wandb: WARNING Ignored wandb.init() arg project when running a sweep.\n",
      "wandb: Tracking run with wandb version 0.12.15\n",
      "wandb: Run data is saved locally in /Users/ines/Projects/graph_search_framework/wandb/run-20220429_105108-jtjlemoo\n",
      "wandb: Run `wandb offline` to turn off syncing.\n",
      "wandb: Syncing run 2014_United_States_House_of_Representatives_elections_entropy_pred_object_freq_domain_range_what_where_\n",
      "wandb: ⭐️ View project at https://wandb.ai/ines-blin/event-graph-search-framework\n",
      "wandb: 🧹 View sweep at https://wandb.ai/ines-blin/event-graph-search-framework/sweeps/typjj4by\n",
      "wandb: 🚀 View run at https://wandb.ai/ines-blin/event-graph-search-framework/runs/jtjlemoo\n",
      "100% 1/1 [00:00<00:00, 40.23it/s]\n",
      "  0% 0/7 [00:00<?, ?it/s]"
     ]
    },
    {
     "name": "stdout",
     "output_type": "stream",
     "text": [
      "Processing node 1/1\thttp://dbpedia.org/resource/2014_United_States_House_of_Representatives_elections\n"
     ]
    },
    {
     "name": "stderr",
     "output_type": "stream",
     "text": [
      "100% 7/7 [00:00<00:00, 41.85it/s]\n",
      "/Users/ines/Projects/graph_search_framework/src/filtering.py:94: SettingWithCopyWarning: \n",
      "A value is trying to be set on a copy of a slice from a DataFrame.\n",
      "Try using .loc[row_indexer,col_indexer] = value instead\n",
      "\n",
      "See the caveats in the documentation: https://pandas.pydata.org/pandas-docs/stable/user_guide/indexing.html#returning-a-view-versus-a-copy\n",
      "  date_df.object = date_df.object.astype(str)\n",
      "100% 1/1 [00:00<00:00, 44.81it/s]\n",
      "100% 6/6 [00:00<00:00, 27.45it/s]\n",
      "wandb: Waiting for W&B process to finish... (success).\n",
      "wandb:                                                                                \n",
      "wandb: \n",
      "wandb: Run history:\n",
      "wandb:                       f1 ▁\n",
      "wandb:                precision ▁\n",
      "wandb:                   recall ▁\n",
      "wandb:        subgraph_nb_event ▁\n",
      "wandb: subgraph_nb_event_unique ▁\n",
      "wandb: \n",
      "wandb: Run summary:\n",
      "wandb:                       f1 0.0\n",
      "wandb:                precision 0.0\n",
      "wandb:                   recall 0.0\n",
      "wandb:        subgraph_nb_event 1\n",
      "wandb: subgraph_nb_event_unique 1\n",
      "wandb: \n",
      "wandb: Synced 2014_United_States_House_of_Representatives_elections_entropy_pred_object_freq_domain_range_what_where_: https://wandb.ai/ines-blin/event-graph-search-framework/runs/jtjlemoo\n",
      "wandb: Synced 6 W&B file(s), 0 media file(s), 0 artifact file(s) and 0 other file(s)\n",
      "wandb: Find logs at: ./wandb/run-20220429_105108-jtjlemoo/logs\n"
     ]
    },
    {
     "name": "stdout",
     "output_type": "stream",
     "text": [
      "wandb: Agent Starting Run: 9jnw857u with config:\n",
      "\tfiltering_when: 1\n",
      "\tjson: /Users/ines/Projects/graph_search_framework/data-ind/config_2014_United_States_House_of_Representatives_elections.json\n",
      "\tordering_domain_range: 0\n",
      "\ttype_ranking: pred_object_freq\n"
     ]
    },
    {
     "name": "stderr",
     "output_type": "stream",
     "text": [
      "wandb: Currently logged in as: ines-blin (use `wandb login --relogin` to force relogin)\n",
      "wandb: WARNING Ignored wandb.init() arg project when running a sweep.\n",
      "wandb: Tracking run with wandb version 0.12.15\n",
      "wandb: Run data is saved locally in /Users/ines/Projects/graph_search_framework/wandb/run-20220429_105124-9jnw857u\n",
      "wandb: Run `wandb offline` to turn off syncing.\n",
      "wandb: Syncing run 2014_United_States_House_of_Representatives_elections_pred_object_freq__what_where_when\n",
      "wandb: ⭐️ View project at https://wandb.ai/ines-blin/event-graph-search-framework\n",
      "wandb: 🧹 View sweep at https://wandb.ai/ines-blin/event-graph-search-framework/sweeps/typjj4by\n",
      "wandb: 🚀 View run at https://wandb.ai/ines-blin/event-graph-search-framework/runs/9jnw857u\n",
      "100% 1/1 [00:00<00:00, 39.64it/s]\n",
      "  0% 0/7 [00:00<?, ?it/s]"
     ]
    },
    {
     "name": "stdout",
     "output_type": "stream",
     "text": [
      "Processing node 1/1\thttp://dbpedia.org/resource/2014_United_States_House_of_Representatives_elections\n"
     ]
    },
    {
     "name": "stderr",
     "output_type": "stream",
     "text": [
      "100% 7/7 [00:00<00:00, 41.76it/s]\n",
      "/Users/ines/Projects/graph_search_framework/src/filtering.py:94: SettingWithCopyWarning: \n",
      "A value is trying to be set on a copy of a slice from a DataFrame.\n",
      "Try using .loc[row_indexer,col_indexer] = value instead\n",
      "\n",
      "See the caveats in the documentation: https://pandas.pydata.org/pandas-docs/stable/user_guide/indexing.html#returning-a-view-versus-a-copy\n",
      "  date_df.object = date_df.object.astype(str)\n",
      "wandb: Waiting for W&B process to finish... (success).\n",
      "wandb:                                                                                \n",
      "wandb: \n",
      "wandb: Run history:\n",
      "wandb:                       f1 ▁\n",
      "wandb:                precision ▁\n",
      "wandb:                   recall ▁\n",
      "wandb:        subgraph_nb_event ▁\n",
      "wandb: subgraph_nb_event_unique ▁\n",
      "wandb: \n",
      "wandb: Run summary:\n",
      "wandb:                       f1 0.0\n",
      "wandb:                precision 0.0\n",
      "wandb:                   recall 0.0\n",
      "wandb:        subgraph_nb_event 1\n",
      "wandb: subgraph_nb_event_unique 1\n",
      "wandb: \n",
      "wandb: Synced 2014_United_States_House_of_Representatives_elections_pred_object_freq__what_where_when: https://wandb.ai/ines-blin/event-graph-search-framework/runs/9jnw857u\n",
      "wandb: Synced 6 W&B file(s), 0 media file(s), 0 artifact file(s) and 0 other file(s)\n",
      "wandb: Find logs at: ./wandb/run-20220429_105124-9jnw857u/logs\n"
     ]
    },
    {
     "name": "stdout",
     "output_type": "stream",
     "text": [
      "wandb: Agent Starting Run: a6yuaew2 with config:\n",
      "\tfiltering_when: 1\n",
      "\tjson: /Users/ines/Projects/graph_search_framework/data-ind/config_2014_United_States_House_of_Representatives_elections.json\n",
      "\tordering_domain_range: 0\n",
      "\ttype_ranking: entropy_pred_object_freq\n"
     ]
    },
    {
     "name": "stderr",
     "output_type": "stream",
     "text": [
      "wandb: Currently logged in as: ines-blin (use `wandb login --relogin` to force relogin)\n",
      "wandb: WARNING Ignored wandb.init() arg project when running a sweep.\n",
      "wandb: Tracking run with wandb version 0.12.15\n",
      "wandb: Run data is saved locally in /Users/ines/Projects/graph_search_framework/wandb/run-20220429_105140-a6yuaew2\n",
      "wandb: Run `wandb offline` to turn off syncing.\n",
      "wandb: Syncing run 2014_United_States_House_of_Representatives_elections_entropy_pred_object_freq__what_where_when\n",
      "wandb: ⭐️ View project at https://wandb.ai/ines-blin/event-graph-search-framework\n",
      "wandb: 🧹 View sweep at https://wandb.ai/ines-blin/event-graph-search-framework/sweeps/typjj4by\n",
      "wandb: 🚀 View run at https://wandb.ai/ines-blin/event-graph-search-framework/runs/a6yuaew2\n",
      "100% 1/1 [00:00<00:00, 40.01it/s]\n",
      "  0% 0/7 [00:00<?, ?it/s]"
     ]
    },
    {
     "name": "stdout",
     "output_type": "stream",
     "text": [
      "Processing node 1/1\thttp://dbpedia.org/resource/2014_United_States_House_of_Representatives_elections\n"
     ]
    },
    {
     "name": "stderr",
     "output_type": "stream",
     "text": [
      "100% 7/7 [00:00<00:00, 41.46it/s]\n",
      "/Users/ines/Projects/graph_search_framework/src/filtering.py:94: SettingWithCopyWarning: \n",
      "A value is trying to be set on a copy of a slice from a DataFrame.\n",
      "Try using .loc[row_indexer,col_indexer] = value instead\n",
      "\n",
      "See the caveats in the documentation: https://pandas.pydata.org/pandas-docs/stable/user_guide/indexing.html#returning-a-view-versus-a-copy\n",
      "  date_df.object = date_df.object.astype(str)\n",
      "wandb: Waiting for W&B process to finish... (success).\n",
      "wandb:                                                                                \n",
      "wandb: \n",
      "wandb: Run history:\n",
      "wandb:                       f1 ▁\n",
      "wandb:                precision ▁\n",
      "wandb:                   recall ▁\n",
      "wandb:        subgraph_nb_event ▁\n",
      "wandb: subgraph_nb_event_unique ▁\n",
      "wandb: \n",
      "wandb: Run summary:\n",
      "wandb:                       f1 0.0\n",
      "wandb:                precision 0.0\n",
      "wandb:                   recall 0.0\n",
      "wandb:        subgraph_nb_event 1\n",
      "wandb: subgraph_nb_event_unique 1\n",
      "wandb: \n",
      "wandb: Synced 2014_United_States_House_of_Representatives_elections_entropy_pred_object_freq__what_where_when: https://wandb.ai/ines-blin/event-graph-search-framework/runs/a6yuaew2\n",
      "wandb: Synced 6 W&B file(s), 0 media file(s), 0 artifact file(s) and 0 other file(s)\n",
      "wandb: Find logs at: ./wandb/run-20220429_105140-a6yuaew2/logs\n"
     ]
    },
    {
     "name": "stdout",
     "output_type": "stream",
     "text": [
      "wandb: Agent Starting Run: 4wgsekd6 with config:\n",
      "\tfiltering_when: 1\n",
      "\tjson: /Users/ines/Projects/graph_search_framework/data-ind/config_2014_United_States_House_of_Representatives_elections.json\n",
      "\tordering_domain_range: 1\n",
      "\ttype_ranking: pred_object_freq\n"
     ]
    },
    {
     "name": "stderr",
     "output_type": "stream",
     "text": [
      "wandb: Currently logged in as: ines-blin (use `wandb login --relogin` to force relogin)\n",
      "wandb: WARNING Ignored wandb.init() arg project when running a sweep.\n",
      "wandb: Tracking run with wandb version 0.12.15\n",
      "wandb: Run data is saved locally in /Users/ines/Projects/graph_search_framework/wandb/run-20220429_105156-4wgsekd6\n",
      "wandb: Run `wandb offline` to turn off syncing.\n",
      "wandb: Syncing run 2014_United_States_House_of_Representatives_elections_pred_object_freq_domain_range_what_where_when\n",
      "wandb: ⭐️ View project at https://wandb.ai/ines-blin/event-graph-search-framework\n",
      "wandb: 🧹 View sweep at https://wandb.ai/ines-blin/event-graph-search-framework/sweeps/typjj4by\n",
      "wandb: 🚀 View run at https://wandb.ai/ines-blin/event-graph-search-framework/runs/4wgsekd6\n",
      "100% 1/1 [00:00<00:00, 39.02it/s]\n",
      "  0% 0/7 [00:00<?, ?it/s]"
     ]
    },
    {
     "name": "stdout",
     "output_type": "stream",
     "text": [
      "Processing node 1/1\thttp://dbpedia.org/resource/2014_United_States_House_of_Representatives_elections\n"
     ]
    },
    {
     "name": "stderr",
     "output_type": "stream",
     "text": [
      "100% 7/7 [00:00<00:00, 41.28it/s]\n",
      "/Users/ines/Projects/graph_search_framework/src/filtering.py:94: SettingWithCopyWarning: \n",
      "A value is trying to be set on a copy of a slice from a DataFrame.\n",
      "Try using .loc[row_indexer,col_indexer] = value instead\n",
      "\n",
      "See the caveats in the documentation: https://pandas.pydata.org/pandas-docs/stable/user_guide/indexing.html#returning-a-view-versus-a-copy\n",
      "  date_df.object = date_df.object.astype(str)\n",
      "100% 1/1 [00:00<00:00, 45.07it/s]\n",
      "0it [00:00, ?it/s]\n",
      "wandb: Waiting for W&B process to finish... (success).\n",
      "wandb:                                                                                \n",
      "wandb: \n",
      "wandb: Run history:\n",
      "wandb:                       f1 ▁\n",
      "wandb:                precision ▁\n",
      "wandb:                   recall ▁\n",
      "wandb:        subgraph_nb_event ▁\n",
      "wandb: subgraph_nb_event_unique ▁\n",
      "wandb: \n",
      "wandb: Run summary:\n",
      "wandb:                       f1 0.0\n",
      "wandb:                precision 0.0\n",
      "wandb:                   recall 0.0\n",
      "wandb:        subgraph_nb_event 1\n",
      "wandb: subgraph_nb_event_unique 1\n",
      "wandb: \n",
      "wandb: Synced 2014_United_States_House_of_Representatives_elections_pred_object_freq_domain_range_what_where_when: https://wandb.ai/ines-blin/event-graph-search-framework/runs/4wgsekd6\n",
      "wandb: Synced 6 W&B file(s), 0 media file(s), 0 artifact file(s) and 0 other file(s)\n",
      "wandb: Find logs at: ./wandb/run-20220429_105156-4wgsekd6/logs\n"
     ]
    },
    {
     "name": "stdout",
     "output_type": "stream",
     "text": [
      "wandb: Agent Starting Run: l1bv3nyv with config:\n",
      "\tfiltering_when: 1\n",
      "\tjson: /Users/ines/Projects/graph_search_framework/data-ind/config_2014_United_States_House_of_Representatives_elections.json\n",
      "\tordering_domain_range: 1\n",
      "\ttype_ranking: entropy_pred_object_freq\n"
     ]
    },
    {
     "name": "stderr",
     "output_type": "stream",
     "text": [
      "wandb: Currently logged in as: ines-blin (use `wandb login --relogin` to force relogin)\n",
      "wandb: WARNING Ignored wandb.init() arg project when running a sweep.\n",
      "wandb: Tracking run with wandb version 0.12.15\n",
      "wandb: Run data is saved locally in /Users/ines/Projects/graph_search_framework/wandb/run-20220429_105212-l1bv3nyv\n",
      "wandb: Run `wandb offline` to turn off syncing.\n",
      "wandb: Syncing run 2014_United_States_House_of_Representatives_elections_entropy_pred_object_freq_domain_range_what_where_when\n",
      "wandb: ⭐️ View project at https://wandb.ai/ines-blin/event-graph-search-framework\n",
      "wandb: 🧹 View sweep at https://wandb.ai/ines-blin/event-graph-search-framework/sweeps/typjj4by\n",
      "wandb: 🚀 View run at https://wandb.ai/ines-blin/event-graph-search-framework/runs/l1bv3nyv\n",
      "100% 1/1 [00:00<00:00, 40.15it/s]\n",
      "  0% 0/7 [00:00<?, ?it/s]"
     ]
    },
    {
     "name": "stdout",
     "output_type": "stream",
     "text": [
      "Processing node 1/1\thttp://dbpedia.org/resource/2014_United_States_House_of_Representatives_elections\n"
     ]
    },
    {
     "name": "stderr",
     "output_type": "stream",
     "text": [
      "100% 7/7 [00:00<00:00, 41.85it/s]\n",
      "/Users/ines/Projects/graph_search_framework/src/filtering.py:94: SettingWithCopyWarning: \n",
      "A value is trying to be set on a copy of a slice from a DataFrame.\n",
      "Try using .loc[row_indexer,col_indexer] = value instead\n",
      "\n",
      "See the caveats in the documentation: https://pandas.pydata.org/pandas-docs/stable/user_guide/indexing.html#returning-a-view-versus-a-copy\n",
      "  date_df.object = date_df.object.astype(str)\n",
      "100% 1/1 [00:00<00:00, 43.88it/s]\n",
      "0it [00:00, ?it/s]\n",
      "wandb: Waiting for W&B process to finish... (success).\n",
      "wandb:                                                                                \n",
      "wandb: \n",
      "wandb: Run history:\n",
      "wandb:                       f1 ▁\n",
      "wandb:                precision ▁\n",
      "wandb:                   recall ▁\n",
      "wandb:        subgraph_nb_event ▁\n",
      "wandb: subgraph_nb_event_unique ▁\n",
      "wandb: \n",
      "wandb: Run summary:\n",
      "wandb:                       f1 0.0\n",
      "wandb:                precision 0.0\n",
      "wandb:                   recall 0.0\n",
      "wandb:        subgraph_nb_event 1\n",
      "wandb: subgraph_nb_event_unique 1\n",
      "wandb: \n",
      "wandb: Synced 2014_United_States_House_of_Representatives_elections_entropy_pred_object_freq_domain_range_what_where_when: https://wandb.ai/ines-blin/event-graph-search-framework/runs/l1bv3nyv\n",
      "wandb: Synced 6 W&B file(s), 0 media file(s), 0 artifact file(s) and 0 other file(s)\n",
      "wandb: Find logs at: ./wandb/run-20220429_105212-l1bv3nyv/logs\n"
     ]
    }
   ],
   "source": [
    "agent = f\"{WANDB_USER}/{WANDB_SWEEP_CONFIG['project']}/{sweep_id}\"\n",
    "wandb.agent(agent, count=8)"
   ]
  },
  {
   "cell_type": "code",
   "execution_count": null,
   "metadata": {},
   "outputs": [],
   "source": []
  }
 ],
 "metadata": {
  "interpreter": {
   "hash": "afb6971e04c6e62d7bdf87aae553a4c9fea1ded343f2e99e4ce796810d312f94"
  },
  "kernelspec": {
   "display_name": "Python 3.9.7 ('graph_search_framework')",
   "language": "python",
   "name": "python3"
  },
  "language_info": {
   "codemirror_mode": {
    "name": "ipython",
    "version": 3
   },
   "file_extension": ".py",
   "mimetype": "text/x-python",
   "name": "python",
   "nbconvert_exporter": "python",
   "pygments_lexer": "ipython3",
   "version": "3.9.7"
  },
  "orig_nbformat": 4
 },
 "nbformat": 4,
 "nbformat_minor": 2
}
