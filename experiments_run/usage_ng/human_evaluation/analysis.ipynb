{
 "cells": [
  {
   "cell_type": "code",
   "execution_count": null,
   "metadata": {},
   "outputs": [],
   "source": [
    "import re\n",
    "import pandas as pd\n",
    "import plotly.express as px\n",
    "import spacy\n",
    "from copy import deepcopy"
   ]
  },
  {
   "cell_type": "markdown",
   "metadata": {},
   "source": [
    "## Information on answers\n",
    "Which answer corresponds to which prompt, etc"
   ]
  },
  {
   "cell_type": "code",
   "execution_count": null,
   "metadata": {},
   "outputs": [],
   "source": [
    "info_answers = pd.read_csv(\"info_answers.csv\")\n",
    "print(info_answers.shape)\n",
    "info_answers.head(3)"
   ]
  },
  {
   "cell_type": "markdown",
   "metadata": {},
   "source": [
    "## Get answers from forms\n",
    "granularity, relevance, diversity, succinctness"
   ]
  },
  {
   "cell_type": "code",
   "execution_count": null,
   "metadata": {},
   "outputs": [],
   "source": [
    "def read_answers(data_path):\n",
    "    df = pd.read_csv(data_path).transpose()[:-1]\n",
    "    time_info = df.iloc[0]\n",
    "    df = df[1:]\n",
    "    columns = list(df.columns)\n",
    "    df.reset_index(inplace=True)\n",
    "    df.columns = [\"answer\"] + columns\n",
    "    \n",
    "    return df.melt(id_vars='answer', value_vars=columns, var_name='n', value_name='value')"
   ]
  },
  {
   "cell_type": "code",
   "execution_count": null,
   "metadata": {},
   "outputs": [],
   "source": [
    "answers = {f\"f{i}\": read_answers(f\"f{i}_answers.csv\") for i in [\"1\", \"2\"]}\n",
    "answers[\"f1\"].head(3)"
   ]
  },
  {
   "cell_type": "code",
   "execution_count": null,
   "metadata": {},
   "outputs": [],
   "source": [
    "def build_data(answers, info_answers, columns):\n",
    "    data_list = []\n",
    "    for form, info in answers.items():\n",
    "        info_answer = info_answers[info_answers.form == form].reset_index(drop=True)\n",
    "        for n in info.n.unique():\n",
    "            curr_df = pd.concat([info_answer, info[info.n == n].reset_index(drop=True)], axis=1)\n",
    "            curr_df.reset_index(drop=True, inplace=True)\n",
    "            data_list.append(curr_df)\n",
    "    data = pd.concat(data_list, axis=0, ignore_index=True).reset_index(drop=True)\n",
    "    return data"
   ]
  },
  {
   "cell_type": "code",
   "execution_count": null,
   "metadata": {},
   "outputs": [],
   "source": [
    "columns = list(info_answers.columns) + list(answers[\"f1\"].columns)\n",
    "data = build_data(answers=answers, info_answers=info_answers, columns=columns)\n",
    "data"
   ]
  },
  {
   "cell_type": "markdown",
   "metadata": {},
   "source": [
    "## Add groundedness"
   ]
  },
  {
   "cell_type": "code",
   "execution_count": null,
   "metadata": {},
   "outputs": [],
   "source": [
    "def clean_answer(text):\n",
    "    new_text = re.sub(r'\"\"\" \\[.+\\]', '', text)\n",
    "    new_text = re.sub(r'\"\"\"\\n \\[.+\\]', '', new_text)\n",
    "    new_text = re.sub(r'Answer: \\n\"\"\"\\n', '', new_text)\n",
    "    new_text = re.sub(r'Answer:\\n\"\"\"\\n', '', new_text)\n",
    "    new_text = re.sub(r'Answer:  \\n\"\"\"\\n', '', new_text)\n",
    "    return new_text\n",
    "\n",
    "grounding = pd.read_csv(\"grounding.csv\")\n",
    "grounding[\"answer_pp\"] = grounding[\"answer\"].apply(clean_answer)\n",
    "grounding.groundedness = grounding.groundedness.str.replace(',', '.').astype(float)\n",
    "print(grounding.shape)\n",
    "grounding.head(3)"
   ]
  },
  {
   "cell_type": "code",
   "execution_count": null,
   "metadata": {},
   "outputs": [],
   "source": [
    "data_grounded = deepcopy(data[[\"form\", \"type_question\", \"data\", \"type_answer\", \"answer\"]])\n",
    "data_grounded[\"answer_pp\"] = data_grounded[\"answer\"].apply(clean_answer)\n",
    "data_grounded = data_grounded.drop_duplicates().sort_values(by=\"answer_pp\")\n",
    "print(data_grounded.shape)\n",
    "data_grounded.head(3)"
   ]
  },
  {
   "cell_type": "code",
   "execution_count": null,
   "metadata": {},
   "outputs": [],
   "source": [
    "data_grounded = pd.merge(data_grounded, grounding[[\"answer_pp\", \"groundedness\"]], on='answer_pp', how='left')\n",
    "data_grounded[\"metric\"] = \"groundedness\"\n",
    "data_grounded[\"n\"] = -1\n",
    "data_grounded = data_grounded.rename(columns={\"groundedness\": \"value\"})\n",
    "data_grounded[\"answer\"] = 'Answer:\\n\"\"\"\\n' + data_grounded[\"answer_pp\"] + '\"\"\" \\[Groundedness]'\n",
    "data_grounded = data_grounded[data.columns].drop_duplicates()\n",
    "print(data_grounded.shape)\n",
    "data_grounded.head(3)"
   ]
  },
  {
   "cell_type": "code",
   "execution_count": null,
   "metadata": {},
   "outputs": [],
   "source": [
    "data = pd.concat([data, data_grounded], axis=0, ignore_index=True).reset_index(drop=True)\n",
    "print(data.shape)\n",
    "data.head(3)"
   ]
  },
  {
   "cell_type": "markdown",
   "metadata": {},
   "source": [
    "## Analyse results"
   ]
  },
  {
   "cell_type": "code",
   "execution_count": null,
   "metadata": {},
   "outputs": [],
   "source": [
    "data.groupby([\"type_answer\", \"metric\"]).agg({\"value\": \"mean\"})"
   ]
  },
  {
   "cell_type": "code",
   "execution_count": null,
   "metadata": {},
   "outputs": [],
   "source": [
    "def format(x):\n",
    "    if str(x)[0].isdigit():\n",
    "        return str(round(x, 2))\n",
    "    return \"\\\\texttt{\" + str(x).replace(\"_\", \"\\\\_\") + \"}\"\n",
    "\n",
    "mean_res = data.groupby([\"type_answer\", \"metric\"]).agg({\"value\": \"mean\"})\n",
    "latex_data = mean_res.reset_index().pivot(index=\"type_answer\", columns=\"metric\", values=\"value\").reset_index()\n",
    "columns = [\"type_answer\", \"granularity\", \"relevance\", \"succinctness\", \"diversity\", \"groundedness\"]\n",
    "for _, row in latex_data.iterrows():\n",
    "    print(' & '.join([format(row[x]) for x in columns]) + \" \\\\\" + \"\\\\\")"
   ]
  },
  {
   "cell_type": "code",
   "execution_count": null,
   "metadata": {},
   "outputs": [],
   "source": [
    "for metric in data.metric.unique():\n",
    "    fig = px.histogram(data[data.metric==metric], x=\"value\", color=\"type_answer\", barmode=\"group\")\n",
    "    print(f\"Metric: {metric}\")\n",
    "    fig.show()"
   ]
  },
  {
   "cell_type": "code",
   "execution_count": null,
   "metadata": {},
   "outputs": [],
   "source": [
    "data.groupby([\"type_answer\", \"metric\"]).agg({\"value\": \"mean\"})"
   ]
  },
  {
   "cell_type": "code",
   "execution_count": null,
   "metadata": {},
   "outputs": [],
   "source": [
    "# Sample DataFrame\n",
    "grouped = data.groupby([\"type_answer\", \"metric\"]).agg({\"value\": \"mean\"}).reset_index()\n",
    "\n",
    "# Create scatter plot using Plotly Express\n",
    "fig = px.scatter(grouped, x='metric', y='value', color='type_answer', #symbol='metric',\n",
    "                 color_discrete_sequence=px.colors.qualitative.Set1,\n",
    "                 #symbol_sequence=['circle', 'square', 'diamond', 'cross', 'x', 'triangle-up']\n",
    "                 )\n",
    "\n",
    "# Update layout\n",
    "fig.update_layout(\n",
    "    title='Scatter Plot',\n",
    "    xaxis=dict(title='Type Question'),\n",
    "    yaxis=dict(title='Value', range=[1,5])\n",
    ")\n",
    "\n",
    "# Show the plot\n",
    "fig.show()"
   ]
  },
  {
   "cell_type": "code",
   "execution_count": null,
   "metadata": {},
   "outputs": [],
   "source": []
  },
  {
   "cell_type": "code",
   "execution_count": null,
   "metadata": {},
   "outputs": [],
   "source": [
    "grounding[[\"nb_events\", \"nb_mentioned\"]]"
   ]
  },
  {
   "cell_type": "code",
   "execution_count": null,
   "metadata": {},
   "outputs": [],
   "source": []
  }
 ],
 "metadata": {
  "kernelspec": {
   "display_name": "graph-search-framework",
   "language": "python",
   "name": "python3"
  },
  "language_info": {
   "codemirror_mode": {
    "name": "ipython",
    "version": 3
   },
   "file_extension": ".py",
   "mimetype": "text/x-python",
   "name": "python",
   "nbconvert_exporter": "python",
   "pygments_lexer": "ipython3",
   "version": "3.10.6"
  }
 },
 "nbformat": 4,
 "nbformat_minor": 2
}
