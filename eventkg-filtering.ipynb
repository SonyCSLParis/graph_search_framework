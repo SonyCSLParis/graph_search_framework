{
 "cells": [
  {
   "cell_type": "markdown",
   "metadata": {},
   "source": [
    "# EventKG Filtering\n",
    "\n",
    "Exploring EventKG using:\n",
    "- Dask for reading and filtering \n",
    "- csv format for saving\n",
    "\n",
    "- EventKG 3.0\n",
    "- pandas==1.4.2\n",
    "- dask==2022.3.0\n",
    "\n",
    "Aim = select content to later explore in GraphDB, getting rid of the parser error"
   ]
  },
  {
   "cell_type": "code",
   "execution_count": 2,
   "metadata": {},
   "outputs": [],
   "source": [
    "import os\n",
    "import csv\n",
    "import pandas as pd\n",
    "import dask.dataframe as dd"
   ]
  },
  {
   "cell_type": "code",
   "execution_count": 3,
   "metadata": {},
   "outputs": [],
   "source": [
    "#TO DO: change path to the EventKG dataset if stored elsewhere\n",
    "EVENTKG_FOLDER = './eventkg/'"
   ]
  },
  {
   "cell_type": "code",
   "execution_count": 4,
   "metadata": {},
   "outputs": [],
   "source": [
    "def sep_col(x_content):\n",
    "\tsep = x_content.strip().split(\" <\")\n",
    "\tval = sep[1] if len(sep) > 1 else \"\"\n",
    "\treturn val\n",
    "\n",
    "def basic_preprocess(x_content):\n",
    "\treturn x_content.replace(\"<\", \"\").strip()\n",
    "\n",
    "def process_object(x_content):\n",
    "\tsep = x_content.strip().split(\" <\")\n",
    "\treturn basic_preprocess(sep[0])\n",
    "\n",
    "def read_nq(folder=None, path=None, preprocess=True,\n",
    "\t\t\tcolumns=[\"subject\", \"predicate\", \"object\", \"meta\"]):\n",
    "\tif not (folder or path):\n",
    "\t\traise ValueError(\"Either `folder` or `path` must be specified\")\n",
    "\t\n",
    "\tif folder:\n",
    "\t\tto_read = f'{folder}/*.nq'\n",
    "\telse:\n",
    "\t\tto_read = path\n",
    "\n",
    "\tdf=dd.read_csv(to_read, sep='>',\n",
    "\t\t\t\t   names=[\"subject\", \"predicate\", \"object\", \"meta\", \".\"],\n",
    "\t\t\t\t   on_bad_lines='skip')\n",
    "\n",
    "\tif preprocess:\n",
    "\t\tdf.subject = df.subject.apply(basic_preprocess, meta=('subject', 'str'))\n",
    "\t\tdf.predicate = df.predicate.apply(basic_preprocess, meta=('predicate', 'str'))\n",
    "\t\tdf.meta = df[[\"object\", \"meta\"]].apply(lambda row: basic_preprocess(row.meta) \\\n",
    "\t\t\t\t\t\t\t\t\t\t\t\t\t\t\tif row.meta.strip() != '.' \\\n",
    "\t\t\t\t\t\t\t\t\t\t\t\t\t\t\telse sep_col(row.object), meta=('meta', 'str'), axis=1)\n",
    "\t\tdf.object = df.object.apply(process_object, meta=('object', 'str'))\n",
    "\n",
    "\treturn df[columns]"
   ]
  },
  {
   "cell_type": "markdown",
   "metadata": {},
   "source": [
    "## 1. relations_base.nq\n",
    "\n",
    "Only keeping in this file the following predicates: `sem:hasSubEvent`, `sem:hasBeginTimeStamp` and `sem:hasEndTimeStamp`.\n",
    "\n",
    "(prefix sem: <http://semanticweb.cs.vu.nl/2009/11/sem/>)"
   ]
  },
  {
   "cell_type": "code",
   "execution_count": 7,
   "metadata": {},
   "outputs": [],
   "source": [
    "PREDICATES_TO_KEEP = [\n",
    "    \" <http://semanticweb.cs.vu.nl/2009/11/sem/hasSubEvent\",\n",
    "    \" <http://semanticweb.cs.vu.nl/2009/11/sem/hasBeginTimeStamp\",\n",
    "    \" <http://semanticweb.cs.vu.nl/2009/11/sem/hasEndTimeStamp\"\n",
    "]"
   ]
  },
  {
   "cell_type": "code",
   "execution_count": 9,
   "metadata": {},
   "outputs": [],
   "source": [
    "df_relations_base_not_preprocessed = read_nq(path=os.path.join(EVENTKG_FOLDER, 'relations_base.nq'),\n",
    "                                             preprocess=False)\n",
    "df_relations_base_sem = \\\n",
    "    df_relations_base_not_preprocessed \\\n",
    "        [df_relations_base_not_preprocessed.predicate.isin(PREDICATES_TO_KEEP)]\n",
    "# df_relations_base_sem.meta = df_relations_base_sem.meta.apply(\n",
    "#     lambda x: x if x == ' .' else f\"{x}> .\", meta=('meta', 'str'))\n",
    "df_relations_base_sem = df_relations_base_sem.compute()"
   ]
  },
  {
   "cell_type": "code",
   "execution_count": 10,
   "metadata": {},
   "outputs": [
    {
     "name": "stdout",
     "output_type": "stream",
     "text": [
      "<http://eventKG.l3s.uni-hannover.de/resource/entity_12435257> <http://semanticweb.cs.vu.nl/2009/11/sem/hasBeginTimeStamp> \"1925-12-14\"^^<http://www.w3.org/2001/XMLSchema#date> <http://eventKG.l3s.uni-hannover.de/graph/dbpedia_en\n",
      "<http://eventKG.l3s.uni-hannover.de/resource/event_4157> <http://semanticweb.cs.vu.nl/2009/11/sem/hasSubEvent> <http://eventKG.l3s.uni-hannover.de/resource/event_391150> .\n"
     ]
    }
   ],
   "source": [
    "for _, row in df_relations_base_sem[df_relations_base_sem.predicate==' <http://semanticweb.cs.vu.nl/2009/11/sem/hasBeginTimeStamp'].head(1).iterrows():\n",
    "    print('>'.join([row.subject, row.predicate, row.object, row.meta]))\n",
    "\n",
    "for _, row in df_relations_base_sem[df_relations_base_sem.predicate==' <http://semanticweb.cs.vu.nl/2009/11/sem/hasSubEvent'].head(1).iterrows():\n",
    "    print('>'.join([row.subject, row.predicate, row.object, row.meta]))"
   ]
  },
  {
   "cell_type": "code",
   "execution_count": 24,
   "metadata": {},
   "outputs": [],
   "source": [
    "df_relations_base_sem \\\n",
    "    .to_csv('relations_base_filtered.nq', sep=\">\", index=False, header=False,\n",
    "            quoting=csv.QUOTE_NONE, escapechar=\"\", line_terminator='\\n')"
   ]
  },
  {
   "cell_type": "code",
   "execution_count": 25,
   "metadata": {},
   "outputs": [],
   "source": [
    "process = lambda line: line if line[-2] == '.' else line.replace(\"\\n\", \"> .\\n\")\n",
    "\n",
    "lines = open('relations_base_filtered.nq')\n",
    "lines=[process(line) for line in lines]\n",
    "f = open('relations_base_filtered.nq', \"w+\")\n",
    "f.write(\"\".join(lines))\n",
    "f.close()"
   ]
  },
  {
   "cell_type": "markdown",
   "metadata": {},
   "source": [
    "## 2. events.nq\n",
    "\n",
    "Retrieving in this file mapping from EventKG to generic KGs (DBpedia, Wikidata, YAGO)\n",
    "1. Retrieving from `relations_base.nq` URIs of events that are ?subject or ?object in triples similar to `(?subject, sem:hasSubEvent, ?object)`\n",
    "2. Retrieving from `events.nq` triples (?s, owl:sameAs, ?o) s.t. ?s is an event from step 1.\n",
    "\n",
    "`PREFIX owl: <http://www.w3.org/2002/07/owl#>`\n",
    "\n"
   ]
  },
  {
   "cell_type": "code",
   "execution_count": 42,
   "metadata": {},
   "outputs": [
    {
     "name": "stderr",
     "output_type": "stream",
     "text": [
      "/Users/ines/miniforge3/envs/graph_search_framework/lib/python3.9/site-packages/dask/dataframe/io/csv.py:181: DtypeWarning: Columns (4) have mixed types. Specify dtype option on import or set low_memory=False.\n",
      "  df = reader(bio, **kwargs)\n"
     ]
    }
   ],
   "source": [
    "df_relations_base_only_events = read_nq(path='relations_base_filtered.nq', preprocess=False)\n",
    "df_relations_base_only_events = df_relations_base_only_events \\\n",
    "    [df_relations_base_only_events.predicate == ' <http://semanticweb.cs.vu.nl/2009/11/sem/hasSubEvent'].compute()\n",
    "\n",
    "events_subject = df_relations_base_only_events.subject.unique()\n",
    "events_object = df_relations_base_only_events.object.unique()\n",
    "events_object = [elt[1:] for elt in events_object]"
   ]
  },
  {
   "cell_type": "code",
   "execution_count": 46,
   "metadata": {},
   "outputs": [
    {
     "data": {
      "text/html": [
       "<div>\n",
       "<style scoped>\n",
       "    .dataframe tbody tr th:only-of-type {\n",
       "        vertical-align: middle;\n",
       "    }\n",
       "\n",
       "    .dataframe tbody tr th {\n",
       "        vertical-align: top;\n",
       "    }\n",
       "\n",
       "    .dataframe thead th {\n",
       "        text-align: right;\n",
       "    }\n",
       "</style>\n",
       "<table border=\"1\" class=\"dataframe\">\n",
       "  <thead>\n",
       "    <tr style=\"text-align: right;\">\n",
       "      <th></th>\n",
       "      <th>subject</th>\n",
       "      <th>predicate</th>\n",
       "      <th>object</th>\n",
       "      <th>meta</th>\n",
       "      <th>.</th>\n",
       "    </tr>\n",
       "  </thead>\n",
       "  <tbody>\n",
       "    <tr>\n",
       "      <th>0</th>\n",
       "      <td>&lt;http://eventKG.l3s.uni-hannover.de/resource/e...</td>\n",
       "      <td>&lt;http://www.w3.org/1999/02/22-rdf-syntax-ns#type</td>\n",
       "      <td>&lt;http://semanticweb.cs.vu.nl/2009/11/sem/Event</td>\n",
       "      <td>&lt;http://eventKG.l3s.uni-hannover.de/graph/eve...</td>\n",
       "      <td>.</td>\n",
       "    </tr>\n",
       "    <tr>\n",
       "      <th>1</th>\n",
       "      <td>&lt;http://eventKG.l3s.uni-hannover.de/resource/e...</td>\n",
       "      <td>&lt;http://www.w3.org/1999/02/22-rdf-syntax-ns#type</td>\n",
       "      <td>&lt;http://eventKG.l3s.uni-hannover.de/schema/Ev...</td>\n",
       "      <td>&lt;http://eventKG.l3s.uni-hannover.de/graph/eve...</td>\n",
       "      <td>.</td>\n",
       "    </tr>\n",
       "  </tbody>\n",
       "</table>\n",
       "</div>"
      ],
      "text/plain": [
       "                                             subject  \\\n",
       "0  <http://eventKG.l3s.uni-hannover.de/resource/e...   \n",
       "1  <http://eventKG.l3s.uni-hannover.de/resource/e...   \n",
       "\n",
       "                                           predicate  \\\n",
       "0   <http://www.w3.org/1999/02/22-rdf-syntax-ns#type   \n",
       "1   <http://www.w3.org/1999/02/22-rdf-syntax-ns#type   \n",
       "\n",
       "                                              object  \\\n",
       "0     <http://semanticweb.cs.vu.nl/2009/11/sem/Event   \n",
       "1   <http://eventKG.l3s.uni-hannover.de/schema/Ev...   \n",
       "\n",
       "                                                meta   .  \n",
       "0   <http://eventKG.l3s.uni-hannover.de/graph/eve...   .  \n",
       "1   <http://eventKG.l3s.uni-hannover.de/graph/eve...   .  "
      ]
     },
     "execution_count": 46,
     "metadata": {},
     "output_type": "execute_result"
    }
   ],
   "source": [
    "df_events = read_nq(path=os.path.join(EVENTKG_FOLDER, 'events.nq'),\n",
    "                    preprocess=False,\n",
    "                    columns=[\"subject\", \"predicate\", \"object\", \"meta\", \".\"])\n",
    "df_events.head(2)"
   ]
  },
  {
   "cell_type": "code",
   "execution_count": 47,
   "metadata": {},
   "outputs": [
    {
     "data": {
      "text/html": [
       "<div>\n",
       "<style scoped>\n",
       "    .dataframe tbody tr th:only-of-type {\n",
       "        vertical-align: middle;\n",
       "    }\n",
       "\n",
       "    .dataframe tbody tr th {\n",
       "        vertical-align: top;\n",
       "    }\n",
       "\n",
       "    .dataframe thead th {\n",
       "        text-align: right;\n",
       "    }\n",
       "</style>\n",
       "<table border=\"1\" class=\"dataframe\">\n",
       "  <thead>\n",
       "    <tr style=\"text-align: right;\">\n",
       "      <th></th>\n",
       "      <th>subject</th>\n",
       "      <th>predicate</th>\n",
       "      <th>object</th>\n",
       "      <th>meta</th>\n",
       "      <th>.</th>\n",
       "    </tr>\n",
       "  </thead>\n",
       "  <tbody>\n",
       "    <tr>\n",
       "      <th>2</th>\n",
       "      <td>&lt;http://eventKG.l3s.uni-hannover.de/resource/e...</td>\n",
       "      <td>&lt;http://www.w3.org/2002/07/owl#sameAs</td>\n",
       "      <td>&lt;http://www.wikidata.org/entity/Q1048601</td>\n",
       "      <td>&lt;http://eventKG.l3s.uni-hannover.de/graph/wik...</td>\n",
       "      <td>.</td>\n",
       "    </tr>\n",
       "    <tr>\n",
       "      <th>3</th>\n",
       "      <td>&lt;http://eventKG.l3s.uni-hannover.de/resource/e...</td>\n",
       "      <td>&lt;http://www.w3.org/2002/07/owl#sameAs</td>\n",
       "      <td>&lt;http://yago-knowledge.org/resource/1981_Wimb...</td>\n",
       "      <td>&lt;http://eventKG.l3s.uni-hannover.de/graph/yago</td>\n",
       "      <td>.</td>\n",
       "    </tr>\n",
       "  </tbody>\n",
       "</table>\n",
       "</div>"
      ],
      "text/plain": [
       "                                             subject  \\\n",
       "2  <http://eventKG.l3s.uni-hannover.de/resource/e...   \n",
       "3  <http://eventKG.l3s.uni-hannover.de/resource/e...   \n",
       "\n",
       "                                predicate  \\\n",
       "2   <http://www.w3.org/2002/07/owl#sameAs   \n",
       "3   <http://www.w3.org/2002/07/owl#sameAs   \n",
       "\n",
       "                                              object  \\\n",
       "2           <http://www.wikidata.org/entity/Q1048601   \n",
       "3   <http://yago-knowledge.org/resource/1981_Wimb...   \n",
       "\n",
       "                                                meta   .  \n",
       "2   <http://eventKG.l3s.uni-hannover.de/graph/wik...   .  \n",
       "3     <http://eventKG.l3s.uni-hannover.de/graph/yago   .  "
      ]
     },
     "execution_count": 47,
     "metadata": {},
     "output_type": "execute_result"
    }
   ],
   "source": [
    "df_events_filtered = df_events[((df_events.subject.isin(events_subject)) | (df_events.subject.isin(events_object))) & \\\n",
    "                               (df_events.predicate == \" <http://www.w3.org/2002/07/owl#sameAs\")]\n",
    "df_events_filtered.head(2)"
   ]
  },
  {
   "cell_type": "code",
   "execution_count": 48,
   "metadata": {},
   "outputs": [],
   "source": [
    "df_events_filtered = df_events_filtered.compute()"
   ]
  },
  {
   "cell_type": "code",
   "execution_count": 49,
   "metadata": {},
   "outputs": [
    {
     "data": {
      "text/html": [
       "<div>\n",
       "<style scoped>\n",
       "    .dataframe tbody tr th:only-of-type {\n",
       "        vertical-align: middle;\n",
       "    }\n",
       "\n",
       "    .dataframe tbody tr th {\n",
       "        vertical-align: top;\n",
       "    }\n",
       "\n",
       "    .dataframe thead th {\n",
       "        text-align: right;\n",
       "    }\n",
       "</style>\n",
       "<table border=\"1\" class=\"dataframe\">\n",
       "  <thead>\n",
       "    <tr style=\"text-align: right;\">\n",
       "      <th></th>\n",
       "      <th>subject</th>\n",
       "      <th>predicate</th>\n",
       "      <th>object</th>\n",
       "      <th>meta</th>\n",
       "      <th>.</th>\n",
       "      <th>concat</th>\n",
       "      <th>to_keep</th>\n",
       "    </tr>\n",
       "  </thead>\n",
       "  <tbody>\n",
       "    <tr>\n",
       "      <th>2</th>\n",
       "      <td>&lt;http://eventKG.l3s.uni-hannover.de/resource/e...</td>\n",
       "      <td>&lt;http://www.w3.org/2002/07/owl#sameAs</td>\n",
       "      <td>&lt;http://www.wikidata.org/entity/Q1048601</td>\n",
       "      <td>&lt;http://eventKG.l3s.uni-hannover.de/graph/wik...</td>\n",
       "      <td>.</td>\n",
       "      <td>&lt;http://eventKG.l3s.uni-hannover.de/resource/e...</td>\n",
       "      <td>1</td>\n",
       "    </tr>\n",
       "    <tr>\n",
       "      <th>3</th>\n",
       "      <td>&lt;http://eventKG.l3s.uni-hannover.de/resource/e...</td>\n",
       "      <td>&lt;http://www.w3.org/2002/07/owl#sameAs</td>\n",
       "      <td>&lt;http://yago-knowledge.org/resource/1981_Wimb...</td>\n",
       "      <td>&lt;http://eventKG.l3s.uni-hannover.de/graph/yago</td>\n",
       "      <td>.</td>\n",
       "      <td>&lt;http://eventKG.l3s.uni-hannover.de/resource/e...</td>\n",
       "      <td>1</td>\n",
       "    </tr>\n",
       "  </tbody>\n",
       "</table>\n",
       "</div>"
      ],
      "text/plain": [
       "                                             subject  \\\n",
       "2  <http://eventKG.l3s.uni-hannover.de/resource/e...   \n",
       "3  <http://eventKG.l3s.uni-hannover.de/resource/e...   \n",
       "\n",
       "                                predicate  \\\n",
       "2   <http://www.w3.org/2002/07/owl#sameAs   \n",
       "3   <http://www.w3.org/2002/07/owl#sameAs   \n",
       "\n",
       "                                              object  \\\n",
       "2           <http://www.wikidata.org/entity/Q1048601   \n",
       "3   <http://yago-knowledge.org/resource/1981_Wimb...   \n",
       "\n",
       "                                                meta   .  \\\n",
       "2   <http://eventKG.l3s.uni-hannover.de/graph/wik...   .   \n",
       "3     <http://eventKG.l3s.uni-hannover.de/graph/yago   .   \n",
       "\n",
       "                                              concat  to_keep  \n",
       "2  <http://eventKG.l3s.uni-hannover.de/resource/e...        1  \n",
       "3  <http://eventKG.l3s.uni-hannover.de/resource/e...        1  "
      ]
     },
     "execution_count": 49,
     "metadata": {},
     "output_type": "execute_result"
    }
   ],
   "source": [
    "columns = df_events_filtered.columns\n",
    "df_events_filtered['concat'] = df_events_filtered.apply(\n",
    "    lambda row: \" \".join([row[x] for x in columns]), axis=1\n",
    ")\n",
    "\n",
    "df_events_filtered['to_keep'] = df_events_filtered.concat.apply(\n",
    "    lambda x: 0 if any(elt in x for elt in ['\"', '\\\\', '”']) else 1\n",
    ")\n",
    "df_events_filtered.head(2)"
   ]
  },
  {
   "cell_type": "code",
   "execution_count": 50,
   "metadata": {},
   "outputs": [],
   "source": [
    "df_events_filtered \\\n",
    "    [df_events_filtered.to_keep == 1] \\\n",
    "        [[\"subject\", \"predicate\", \"object\", \"meta\", \".\"]] \\\n",
    "            .to_csv('events_filtered.nq', sep='>', index=False, header=False)"
   ]
  },
  {
   "cell_type": "code",
   "execution_count": 55,
   "metadata": {},
   "outputs": [
    {
     "name": "stdout",
     "output_type": "stream",
     "text": [
      "Different KG used:\n",
      " <http://eventKG.l3s.uni-hannover.de/graph/wikidata\n",
      " <http://eventKG.l3s.uni-hannover.de/graph/yago\n",
      " <http://eventKG.l3s.uni-hannover.de/graph/dbpedia_en\n",
      " <http://eventKG.l3s.uni-hannover.de/graph/dbpedia_de\n",
      " <http://eventKG.l3s.uni-hannover.de/graph/dbpedia_fr\n",
      " <http://eventKG.l3s.uni-hannover.de/graph/dbpedia_it\n",
      " <http://eventKG.l3s.uni-hannover.de/graph/dbpedia_nl\n",
      " <http://eventKG.l3s.uni-hannover.de/graph/dbpedia_es\n",
      " <http://eventKG.l3s.uni-hannover.de/graph/dbpedia_no\n",
      " <http://eventKG.l3s.uni-hannover.de/graph/dbpedia_sl\n",
      " <http://eventKG.l3s.uni-hannover.de/graph/dbpedia_pl\n",
      " <http://eventKG.l3s.uni-hannover.de/graph/dbpedia_ru\n",
      " <http://eventKG.l3s.uni-hannover.de/graph/dbpedia_pt\n",
      " <http://eventKG.l3s.uni-hannover.de/graph/dbpedia_da\n",
      " <http://eventKG.l3s.uni-hannover.de/graph/dbpedia_hr\n",
      " <http://eventKG.l3s.uni-hannover.de/graph/dbpedia_bg\n",
      " <http://eventKG.l3s.uni-hannover.de/graph/dbpedia_ro\n"
     ]
    }
   ],
   "source": [
    "print(\"Different KG used:\")\n",
    "for elt in df_events_filtered.meta.unique():\n",
    "    print(elt)"
   ]
  },
  {
   "cell_type": "code",
   "execution_count": 58,
   "metadata": {},
   "outputs": [
    {
     "data": {
      "text/html": [
       "<div>\n",
       "<style scoped>\n",
       "    .dataframe tbody tr th:only-of-type {\n",
       "        vertical-align: middle;\n",
       "    }\n",
       "\n",
       "    .dataframe tbody tr th {\n",
       "        vertical-align: top;\n",
       "    }\n",
       "\n",
       "    .dataframe thead th {\n",
       "        text-align: right;\n",
       "    }\n",
       "</style>\n",
       "<table border=\"1\" class=\"dataframe\">\n",
       "  <thead>\n",
       "    <tr style=\"text-align: right;\">\n",
       "      <th></th>\n",
       "      <th>subject</th>\n",
       "    </tr>\n",
       "    <tr>\n",
       "      <th>meta</th>\n",
       "      <th></th>\n",
       "    </tr>\n",
       "  </thead>\n",
       "  <tbody>\n",
       "    <tr>\n",
       "      <th>&lt;http://eventKG.l3s.uni-hannover.de/graph/wikidata</th>\n",
       "      <td>268010</td>\n",
       "    </tr>\n",
       "    <tr>\n",
       "      <th>&lt;http://eventKG.l3s.uni-hannover.de/graph/dbpedia_en</th>\n",
       "      <td>110001</td>\n",
       "    </tr>\n",
       "    <tr>\n",
       "      <th>&lt;http://eventKG.l3s.uni-hannover.de/graph/yago</th>\n",
       "      <td>89503</td>\n",
       "    </tr>\n",
       "    <tr>\n",
       "      <th>&lt;http://eventKG.l3s.uni-hannover.de/graph/dbpedia_it</th>\n",
       "      <td>72788</td>\n",
       "    </tr>\n",
       "    <tr>\n",
       "      <th>&lt;http://eventKG.l3s.uni-hannover.de/graph/dbpedia_fr</th>\n",
       "      <td>48951</td>\n",
       "    </tr>\n",
       "    <tr>\n",
       "      <th>&lt;http://eventKG.l3s.uni-hannover.de/graph/dbpedia_de</th>\n",
       "      <td>48156</td>\n",
       "    </tr>\n",
       "    <tr>\n",
       "      <th>&lt;http://eventKG.l3s.uni-hannover.de/graph/dbpedia_es</th>\n",
       "      <td>40712</td>\n",
       "    </tr>\n",
       "    <tr>\n",
       "      <th>&lt;http://eventKG.l3s.uni-hannover.de/graph/dbpedia_ru</th>\n",
       "      <td>34588</td>\n",
       "    </tr>\n",
       "    <tr>\n",
       "      <th>&lt;http://eventKG.l3s.uni-hannover.de/graph/dbpedia_pl</th>\n",
       "      <td>30594</td>\n",
       "    </tr>\n",
       "    <tr>\n",
       "      <th>&lt;http://eventKG.l3s.uni-hannover.de/graph/dbpedia_nl</th>\n",
       "      <td>26941</td>\n",
       "    </tr>\n",
       "    <tr>\n",
       "      <th>&lt;http://eventKG.l3s.uni-hannover.de/graph/dbpedia_pt</th>\n",
       "      <td>25310</td>\n",
       "    </tr>\n",
       "    <tr>\n",
       "      <th>&lt;http://eventKG.l3s.uni-hannover.de/graph/dbpedia_no</th>\n",
       "      <td>19358</td>\n",
       "    </tr>\n",
       "    <tr>\n",
       "      <th>&lt;http://eventKG.l3s.uni-hannover.de/graph/dbpedia_da</th>\n",
       "      <td>7777</td>\n",
       "    </tr>\n",
       "    <tr>\n",
       "      <th>&lt;http://eventKG.l3s.uni-hannover.de/graph/dbpedia_bg</th>\n",
       "      <td>5378</td>\n",
       "    </tr>\n",
       "    <tr>\n",
       "      <th>&lt;http://eventKG.l3s.uni-hannover.de/graph/dbpedia_ro</th>\n",
       "      <td>5132</td>\n",
       "    </tr>\n",
       "    <tr>\n",
       "      <th>&lt;http://eventKG.l3s.uni-hannover.de/graph/dbpedia_sl</th>\n",
       "      <td>4995</td>\n",
       "    </tr>\n",
       "    <tr>\n",
       "      <th>&lt;http://eventKG.l3s.uni-hannover.de/graph/dbpedia_hr</th>\n",
       "      <td>3646</td>\n",
       "    </tr>\n",
       "  </tbody>\n",
       "</table>\n",
       "</div>"
      ],
      "text/plain": [
       "                                                    subject\n",
       "meta                                                       \n",
       " <http://eventKG.l3s.uni-hannover.de/graph/wiki...   268010\n",
       " <http://eventKG.l3s.uni-hannover.de/graph/dbpe...   110001\n",
       " <http://eventKG.l3s.uni-hannover.de/graph/yago       89503\n",
       " <http://eventKG.l3s.uni-hannover.de/graph/dbpe...    72788\n",
       " <http://eventKG.l3s.uni-hannover.de/graph/dbpe...    48951\n",
       " <http://eventKG.l3s.uni-hannover.de/graph/dbpe...    48156\n",
       " <http://eventKG.l3s.uni-hannover.de/graph/dbpe...    40712\n",
       " <http://eventKG.l3s.uni-hannover.de/graph/dbpe...    34588\n",
       " <http://eventKG.l3s.uni-hannover.de/graph/dbpe...    30594\n",
       " <http://eventKG.l3s.uni-hannover.de/graph/dbpe...    26941\n",
       " <http://eventKG.l3s.uni-hannover.de/graph/dbpe...    25310\n",
       " <http://eventKG.l3s.uni-hannover.de/graph/dbpe...    19358\n",
       " <http://eventKG.l3s.uni-hannover.de/graph/dbpe...     7777\n",
       " <http://eventKG.l3s.uni-hannover.de/graph/dbpe...     5378\n",
       " <http://eventKG.l3s.uni-hannover.de/graph/dbpe...     5132\n",
       " <http://eventKG.l3s.uni-hannover.de/graph/dbpe...     4995\n",
       " <http://eventKG.l3s.uni-hannover.de/graph/dbpe...     3646"
      ]
     },
     "execution_count": 58,
     "metadata": {},
     "output_type": "execute_result"
    }
   ],
   "source": [
    "df_events_filtered.groupby('meta').agg({\"subject\": \"count\"}).sort_values(by=\"subject\", ascending=False)"
   ]
  },
  {
   "cell_type": "code",
   "execution_count": null,
   "metadata": {},
   "outputs": [],
   "source": []
  }
 ],
 "metadata": {
  "interpreter": {
   "hash": "afb6971e04c6e62d7bdf87aae553a4c9fea1ded343f2e99e4ce796810d312f94"
  },
  "kernelspec": {
   "display_name": "Python 3.9.7 ('graph_search_framework')",
   "language": "python",
   "name": "python3"
  },
  "language_info": {
   "codemirror_mode": {
    "name": "ipython",
    "version": 3
   },
   "file_extension": ".py",
   "mimetype": "text/x-python",
   "name": "python",
   "nbconvert_exporter": "python",
   "pygments_lexer": "ipython3",
   "version": "3.9.7"
  },
  "orig_nbformat": 4
 },
 "nbformat": 4,
 "nbformat_minor": 2
}
