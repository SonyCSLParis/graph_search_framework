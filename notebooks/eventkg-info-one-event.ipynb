{
 "cells": [
  {
   "cell_type": "markdown",
   "metadata": {},
   "source": [
    "# EventKG - Extracting info for one event\n",
    "\n",
    "The aim of the notebook is to automatically retrieve info for one event, and esp. the ground truth for EventKG.\n",
    "\n",
    "Before running the notebook, ensure to have the followings:\n",
    "* EventKG downloaded and preprocessed, cf. `eventkg-filtering.ipynb`\n",
    "* Subset of EventKG loaded in [GraphDB](https://graphdb.ontotext.com)\n",
    "* GraphDB endpoint active (Repositories name `eventkg`)"
   ]
  },
  {
   "cell_type": "code",
   "execution_count": 1,
   "metadata": {},
   "outputs": [],
   "source": [
    "import io\n",
    "import os\n",
    "import json\n",
    "import requests\n",
    "import psutil\n",
    "\n",
    "import pandas as pd\n",
    "from settings import FOLDER_PATH"
   ]
  },
  {
   "cell_type": "code",
   "execution_count": 2,
   "metadata": {},
   "outputs": [],
   "source": [
    "HEADERS = {\n",
    "    \"Accept\": \"text/csv\"\n",
    "}\n",
    "\n",
    "DATASET_TO_START_URI = {\n",
    "    \"dbpedia\": \"http://dbpedia\",\n",
    "    \"wikidata\": \"http://www.wikidata\",\n",
    "    \"yago\": \"http://yago\"\n",
    "}\n",
    "NB_CPUS = psutil.cpu_count(logical=False)"
   ]
  },
  {
   "cell_type": "code",
   "execution_count": 30,
   "metadata": {},
   "outputs": [],
   "source": [
    "# <TO-DO: change if necessary>\n",
    "ENDPOINT = \"http://localhost:7200/repositories/eventkg\"  # GraphDB endpoint\n",
    "# FOLDER_SAVE_DATA = os.path.join(FOLDER_PATH, \"data-ind\")  # Folder to save the data\n",
    "# EVENT = \"http://dbpedia.org/resource/French_Revolution\" # Event to extract info from\n",
    "# DATASET = \"dbpedia\"  # Dataset, must be one of the keys of `DATASET_TO_START_URI`\n",
    "\n",
    "FOLDER_SAVE_DATA = os.path.join(FOLDER_PATH, \"data-test\")  # Folder to save the data\n",
    "EVENT = \"http://www.wikidata.org/entity/Q47015896\" # Event to extract info from\n",
    "DATASET = \"wikidata\"  # Dataset, must be one of the keys of `DATASET_TO_START_URI`"
   ]
  },
  {
   "cell_type": "code",
   "execution_count": 31,
   "metadata": {},
   "outputs": [],
   "source": [
    "# Creating folder if necessary\n",
    "if not os.path.exists(FOLDER_SAVE_DATA):\n",
    "    os.makedirs(FOLDER_SAVE_DATA)\n",
    "if not os.path.exists(os.path.join(FOLDER_SAVE_DATA, DATASET)):\n",
    "    os.makedirs(os.path.join(FOLDER_SAVE_DATA, DATASET))\n",
    "for folder in [\"config\", \"gs_events\", \"referents\"]:\n",
    "    path_folder = os.path.join(FOLDER_SAVE_DATA, DATASET, folder)\n",
    "    if not os.path.exists(path_folder):\n",
    "        os.makedirs(path_folder)"
   ]
  },
  {
   "cell_type": "markdown",
   "metadata": {},
   "source": [
    "## 1. Retrieving info for the input event\n",
    "\n",
    "* Ground truth events from EventKG \n",
    "* Referents (URI mapping)\n",
    "* Start/End dates\n"
   ]
  },
  {
   "cell_type": "markdown",
   "metadata": {},
   "source": [
    "### 1.1. Ground truth for each event\n",
    "\n",
    "Ground truth = event part of that event in EventKG"
   ]
  },
  {
   "cell_type": "code",
   "execution_count": 32,
   "metadata": {},
   "outputs": [],
   "source": [
    "QUERY_GROUND_TRUTH_TEMPLATE = \"\"\"\n",
    "PREFIX sem: <http://semanticweb.cs.vu.nl/2009/11/sem/>\n",
    "PREFIX owl: <http://www.w3.org/2002/07/owl#>\n",
    "SELECT DISTINCT(?subEventKG as ?linkDBpediaEn)\n",
    "WHERE {\n",
    "    \n",
    "?event owl:sameAs <event-to-replace> .\n",
    "?event sem:hasSubEvent* ?subEvent .\n",
    "?subEvent owl:sameAs ?subEventKG .\n",
    "    \n",
    "?event sem:hasBeginTimeStamp ?startTimeEvent .\n",
    "?event sem:hasEndTimeStamp ?endTimeEvent .\n",
    "\n",
    "?subEvent sem:hasBeginTimeStamp ?startTimeSubEvent .\n",
    "?subEvent sem:hasEndTimeStamp ?endTimeSubEvent .\n",
    "    \n",
    "FILTER( strStarts( str(?subEventKG), \"<dataset-to-replace>\" ) ) .\n",
    "FILTER (?endTimeSubEvent >= ?startTimeEvent) .\n",
    "FILTER (?startTimeSubEvent <= ?endTimeEvent) .\n",
    "}\n",
    "\"\"\"\n",
    "\n",
    "QUERY_GROUND_TRUTH_TEMPLATE = \\\n",
    "    QUERY_GROUND_TRUTH_TEMPLATE.replace(\"<dataset-to-replace>\", DATASET_TO_START_URI[DATASET])"
   ]
  },
  {
   "cell_type": "code",
   "execution_count": 33,
   "metadata": {},
   "outputs": [
    {
     "data": {
      "text/html": [
       "<div>\n",
       "<style scoped>\n",
       "    .dataframe tbody tr th:only-of-type {\n",
       "        vertical-align: middle;\n",
       "    }\n",
       "\n",
       "    .dataframe tbody tr th {\n",
       "        vertical-align: top;\n",
       "    }\n",
       "\n",
       "    .dataframe thead th {\n",
       "        text-align: right;\n",
       "    }\n",
       "</style>\n",
       "<table border=\"1\" class=\"dataframe\">\n",
       "  <thead>\n",
       "    <tr style=\"text-align: right;\">\n",
       "      <th></th>\n",
       "      <th>linkDBpediaEn</th>\n",
       "    </tr>\n",
       "  </thead>\n",
       "  <tbody>\n",
       "    <tr>\n",
       "      <th>0</th>\n",
       "      <td>http://www.wikidata.org/entity/Q47015896</td>\n",
       "    </tr>\n",
       "    <tr>\n",
       "      <th>1</th>\n",
       "      <td>http://www.wikidata.org/entity/Q545449</td>\n",
       "    </tr>\n",
       "    <tr>\n",
       "      <th>2</th>\n",
       "      <td>http://www.wikidata.org/entity/Q107802</td>\n",
       "    </tr>\n",
       "  </tbody>\n",
       "</table>\n",
       "</div>"
      ],
      "text/plain": [
       "                              linkDBpediaEn\n",
       "0  http://www.wikidata.org/entity/Q47015896\n",
       "1    http://www.wikidata.org/entity/Q545449\n",
       "2    http://www.wikidata.org/entity/Q107802"
      ]
     },
     "execution_count": 33,
     "metadata": {},
     "output_type": "execute_result"
    }
   ],
   "source": [
    "query = QUERY_GROUND_TRUTH_TEMPLATE.replace(\n",
    "    \"event-to-replace\", EVENT\n",
    ")\n",
    "response = requests.get(ENDPOINT, headers=HEADERS,\n",
    "                        params={\"query\": query})\n",
    "df_sub_event = pd.read_csv(io.StringIO(response.content.decode('utf-8'))) \n",
    "df_sub_event.to_csv(os.path.join(FOLDER_SAVE_DATA, DATASET, \"gs_events\", f\"{EVENT.split('/')[-1]}.csv\"))\n",
    "df_sub_event.head(3)\n",
    "        "
   ]
  },
  {
   "cell_type": "markdown",
   "metadata": {},
   "source": [
    "### 1.2. URI referents for each sub event\n",
    "\n",
    "Due to differences in dataset version, URIs can vary over time, the aim of this section is to retrieve a unique ID referent for each set of URIs.\n"
   ]
  },
  {
   "cell_type": "code",
   "execution_count": 34,
   "metadata": {},
   "outputs": [],
   "source": [
    "from src.get_equivalent_url import get_equivalent_url"
   ]
  },
  {
   "cell_type": "code",
   "execution_count": 35,
   "metadata": {},
   "outputs": [
    {
     "name": "stderr",
     "output_type": "stream",
     "text": [
      "100%|██████████| 18/18 [00:03<00:00,  5.32it/s]\n"
     ]
    }
   ],
   "source": [
    "get_equivalent_url(os.path.join(FOLDER_SAVE_DATA, DATASET, \"gs_events\", f\"{EVENT.split('/')[-1]}.csv\"),\n",
    "                   os.path.join(FOLDER_SAVE_DATA, DATASET, \"referents\", f\"{EVENT.split('/')[-1]}.json\"))"
   ]
  },
  {
   "cell_type": "markdown",
   "metadata": {},
   "source": [
    "### 2.3. Start and End dates of each event\n",
    "\n",
    "Minimum start date among all start dates, maximum end date among all end dates.\n",
    "\n",
    "Start date must be before end date."
   ]
  },
  {
   "cell_type": "code",
   "execution_count": 36,
   "metadata": {},
   "outputs": [],
   "source": [
    "QUERY_DATES_TEMPLATE = \"\"\"\n",
    "PREFIX sem: <http://semanticweb.cs.vu.nl/2009/11/sem/>\n",
    "PREFIX owl: <http://www.w3.org/2002/07/owl#>\n",
    "SELECT (min(?startTimeEvent) as ?min) (max(?endTimeEvent) as ?max)\n",
    "WHERE {\n",
    "    \n",
    " ?event owl:sameAs <event-to-replace> .\n",
    " ?event sem:hasSubEvent* ?subEvent .\n",
    " ?event sem:hasBeginTimeStamp ?startTimeEvent .\n",
    " ?event sem:hasEndTimeStamp ?endTimeEvent .\n",
    " ?event owl:sameAs ?eventKG .\n",
    "\n",
    " FILTER( strStarts( str(?eventKG), \"<dataset-to-replace>\" ) ) .\n",
    "}\n",
    "GROUP BY ?eventKG\n",
    "HAVING (max(?endTimeEvent) >= min(?startTimeEvent))\n",
    "\"\"\"\n",
    "\n",
    "QUERY_DATES_TEMPLATE = \\\n",
    "    QUERY_DATES_TEMPLATE.replace(\"<dataset-to-replace>\", DATASET_TO_START_URI[DATASET])"
   ]
  },
  {
   "cell_type": "code",
   "execution_count": 37,
   "metadata": {},
   "outputs": [],
   "source": [
    "def get_dates(event):\n",
    "    query = QUERY_DATES_TEMPLATE.replace(\n",
    "        \"event-to-replace\", event)\n",
    "    response = requests.get(ENDPOINT, headers=HEADERS,\n",
    "                        params={\"query\": query})\n",
    "    return pd.read_csv(io.StringIO(response.content.decode('utf-8')))"
   ]
  },
  {
   "cell_type": "code",
   "execution_count": 38,
   "metadata": {},
   "outputs": [
    {
     "data": {
      "text/html": [
       "<div>\n",
       "<style scoped>\n",
       "    .dataframe tbody tr th:only-of-type {\n",
       "        vertical-align: middle;\n",
       "    }\n",
       "\n",
       "    .dataframe tbody tr th {\n",
       "        vertical-align: top;\n",
       "    }\n",
       "\n",
       "    .dataframe thead th {\n",
       "        text-align: right;\n",
       "    }\n",
       "</style>\n",
       "<table border=\"1\" class=\"dataframe\">\n",
       "  <thead>\n",
       "    <tr style=\"text-align: right;\">\n",
       "      <th></th>\n",
       "      <th>min</th>\n",
       "      <th>max</th>\n",
       "    </tr>\n",
       "  </thead>\n",
       "  <tbody>\n",
       "    <tr>\n",
       "      <th>0</th>\n",
       "      <td>2003-03-20</td>\n",
       "      <td>2003-03-20</td>\n",
       "    </tr>\n",
       "  </tbody>\n",
       "</table>\n",
       "</div>"
      ],
      "text/plain": [
       "          min         max\n",
       "0  2003-03-20  2003-03-20"
      ]
     },
     "execution_count": 38,
     "metadata": {},
     "output_type": "execute_result"
    }
   ],
   "source": [
    "result = get_dates(EVENT)\n",
    "result"
   ]
  },
  {
   "cell_type": "code",
   "execution_count": 39,
   "metadata": {},
   "outputs": [],
   "source": [
    "def store_changing_config(dico):\n",
    "    name = EVENT.split(\"/\")[-1]\n",
    "    dico = {\n",
    "        \"start\": EVENT,\n",
    "        \"start_date\": result[\"min\"].values[0],\n",
    "        \"end_date\": result[\"max\"].values[0],\n",
    "        \"gold_standard\": os.path.join(FOLDER_SAVE_DATA, DATASET, \"gs_events\", f\"{name}.csv\"),\n",
    "        \"referents\": os.path.join(FOLDER_SAVE_DATA, DATASET,  \"referents\", f\"{name}.json\"),\n",
    "        \"name_exp\": name,\n",
    "    }\n",
    "    return dico\n",
    "\n",
    "dico_config = store_changing_config(dico={})"
   ]
  },
  {
   "cell_type": "code",
   "execution_count": 40,
   "metadata": {},
   "outputs": [
    {
     "data": {
      "text/plain": [
       "{'start': 'http://www.wikidata.org/entity/Q47015896',\n",
       " 'start_date': '2003-03-20',\n",
       " 'end_date': '2003-03-20',\n",
       " 'gold_standard': '/Users/ines/Projects/graph_search_framework/data-test/wikidata/gs_events/Q47015896.csv',\n",
       " 'referents': '/Users/ines/Projects/graph_search_framework/data-test/wikidata/referents/Q47015896.json',\n",
       " 'name_exp': 'Q47015896'}"
      ]
     },
     "execution_count": 40,
     "metadata": {},
     "output_type": "execute_result"
    }
   ],
   "source": [
    "dico_config"
   ]
  },
  {
   "cell_type": "markdown",
   "metadata": {},
   "source": [
    "## 3. Prepare configuration files"
   ]
  },
  {
   "cell_type": "code",
   "execution_count": 28,
   "metadata": {},
   "outputs": [],
   "source": [
    "with open(os.path.join(\n",
    "    FOLDER_PATH, \"configs-example\", f\"config-{DATASET}.json\"), \"r\", encoding=\"utf-8\") as openfile:\n",
    "    BASE_CONFIG = json.load(openfile)"
   ]
  },
  {
   "cell_type": "code",
   "execution_count": 29,
   "metadata": {},
   "outputs": [],
   "source": [
    "name = EVENT.split(\"/\")[-1]\n",
    "BASE_CONFIG.update(dico_config)\n",
    "BASE_CONFIG[\"dataset_path\"] = os.path.join(FOLDER_PATH, BASE_CONFIG[\"dataset_path\"])\n",
    "with open(os.path.join(FOLDER_SAVE_DATA, DATASET, \"config\", f\"{name}.json\"), \"w\", encoding='utf-8') as openfile:\n",
    "    json.dump(BASE_CONFIG, openfile, indent=4)"
   ]
  },
  {
   "cell_type": "markdown",
   "metadata": {},
   "source": [
    "## 4. Run the search"
   ]
  },
  {
   "cell_type": "code",
   "execution_count": null,
   "metadata": {},
   "outputs": [],
   "source": [
    "from datetime import datetime\n",
    "from src.framework import GraphSearchFramework"
   ]
  },
  {
   "cell_type": "code",
   "execution_count": null,
   "metadata": {},
   "outputs": [],
   "source": [
    "json_path = os.path.join(FOLDER_SAVE_DATA, DATASET, \"config\", f\"{name}.json\")\n",
    "with open(json_path, \"r\", encoding=\"utf-8\") as openfile_main:\n",
    "    config_loaded = json.load(openfile_main)\n",
    "config_loaded[\"rdf_type\"] = list(config_loaded[\"rdf_type\"].items())\n",
    "\n",
    "framework = GraphSearchFramework(config=config_loaded)\n",
    "START = datetime.now()\n",
    "print(f\"Process started at {START}\")\n",
    "framework()\n",
    "END = datetime.now()\n",
    "print(f\"Process ended at {END}, took {END-START}\")"
   ]
  },
  {
   "cell_type": "code",
   "execution_count": null,
   "metadata": {},
   "outputs": [],
   "source": []
  }
 ],
 "metadata": {
  "interpreter": {
   "hash": "afb6971e04c6e62d7bdf87aae553a4c9fea1ded343f2e99e4ce796810d312f94"
  },
  "kernelspec": {
   "display_name": "Python 3.9.7 ('graph_search_framework')",
   "language": "python",
   "name": "python3"
  },
  "language_info": {
   "codemirror_mode": {
    "name": "ipython",
    "version": 3
   },
   "file_extension": ".py",
   "mimetype": "text/x-python",
   "name": "python",
   "nbconvert_exporter": "python",
   "pygments_lexer": "ipython3",
   "version": "3.9.7"
  },
  "orig_nbformat": 4
 },
 "nbformat": 4,
 "nbformat_minor": 2
}
