{
 "cells": [
  {
   "cell_type": "markdown",
   "metadata": {},
   "source": [
    "# EventKG statistics\n",
    "\n",
    "Exploring EventKG using:\n",
    "- Dask for reading and filtering \n",
    "- parquet format for savinb\n",
    "- pandas for operations\n",
    "\n",
    "Ran using:\n",
    "- pandas==1.4.2\n",
    "- dask==2022.3.0\n",
    "- fastparquet==0.8.1"
   ]
  },
  {
   "cell_type": "code",
   "execution_count": null,
   "metadata": {},
   "outputs": [],
   "source": []
  },
  {
   "cell_type": "code",
   "execution_count": null,
   "metadata": {},
   "outputs": [],
   "source": [
    "import os\n",
    "import pandas as pd\n",
    "import dask.dataframe as dd\n",
    "import plotly.express as px"
   ]
  },
  {
   "cell_type": "code",
   "execution_count": null,
   "metadata": {},
   "outputs": [],
   "source": [
    "EVENTKG_FOLDER = './eventkg/'"
   ]
  },
  {
   "cell_type": "code",
   "execution_count": null,
   "metadata": {},
   "outputs": [],
   "source": [
    "def sep_col(x_content):\n",
    "\tsep = x_content.strip().split(\" <\")\n",
    "\tval = sep[1] if len(sep) > 1 else \"\"\n",
    "\treturn val\n",
    "\n",
    "def basic_preprocess(x_content):\n",
    "\treturn x_content.replace(\"<\", \"\").strip()\n",
    "\n",
    "def process_object(x_content):\n",
    "\tsep = x_content.strip().split(\" <\")\n",
    "\treturn basic_preprocess(sep[0])\n",
    "\n",
    "def read_nq(folder=None, path=None, preprocess=True):\n",
    "\tif not (folder or path):\n",
    "\t\traise ValueError(\"Either `folder` or `path` must be specified\")\n",
    "\t\n",
    "\tif folder:\n",
    "\t\tto_read = f'{folder}/*.nq'\n",
    "\telse:\n",
    "\t\tto_read = path\n",
    "\n",
    "\tdf=dd.read_csv(to_read, sep='>',\n",
    "\t\t\t\t   names=[\"subject\", \"predicate\", \"object\", \"meta\", \".\"],\n",
    "\t\t\t\t   on_bad_lines='skip')\n",
    "\n",
    "\tif preprocess:\n",
    "\t\tdf.subject = df.subject.apply(basic_preprocess, meta=('subject', 'str'))\n",
    "\t\tdf.predicate = df.predicate.apply(basic_preprocess, meta=('predicate', 'str'))\n",
    "\t\tdf.meta = df[[\"object\", \"meta\"]].apply(lambda row: basic_preprocess(row.meta) \\\n",
    "\t\t\t\t\t\t\t\t\t\t\t\t\t\t\tif row.meta.strip() != '.' \\\n",
    "\t\t\t\t\t\t\t\t\t\t\t\t\t\t\telse sep_col(row.object), meta=('meta', 'str'), axis=1)\n",
    "\t\tdf.object = df.object.apply(process_object, meta=('object', 'str'))\n",
    "\t\n",
    "\tcolumns = [\"subject\", \"predicate\", \"object\", \"meta\"] if preprocess else df.columns\n",
    "\n",
    "\treturn df[columns]"
   ]
  },
  {
   "cell_type": "markdown",
   "metadata": {},
   "source": [
    "## 0. Filtering out wrongly encoded data\n",
    "Removing bad lines"
   ]
  },
  {
   "cell_type": "markdown",
   "metadata": {},
   "source": [
    "## 1. Extract sem:hasSubEvent triples\n",
    "Relevant eventkg file: `relations_base.nq`"
   ]
  },
  {
   "cell_type": "code",
   "execution_count": null,
   "metadata": {},
   "outputs": [],
   "source": [
    "df_relations_base = read_nq(path=os.path.join(EVENTKG_FOLDER, 'relations_base.nq'))"
   ]
  },
  {
   "cell_type": "code",
   "execution_count": null,
   "metadata": {},
   "outputs": [],
   "source": [
    "df_relations_base.to_csv(\"relations_base.nq\")"
   ]
  },
  {
   "cell_type": "code",
   "execution_count": null,
   "metadata": {},
   "outputs": [],
   "source": [
    "df_relations_base.head(5)"
   ]
  },
  {
   "cell_type": "code",
   "execution_count": null,
   "metadata": {},
   "outputs": [],
   "source": [
    "df_sem = df_relations_base[df_relations_base.predicate == \"http://semanticweb.cs.vu.nl/2009/11/sem/hasSubEvent\"]"
   ]
  },
  {
   "cell_type": "code",
   "execution_count": null,
   "metadata": {},
   "outputs": [],
   "source": [
    "df_sem.to_parquet('hasSubEvent.parquet')"
   ]
  },
  {
   "cell_type": "markdown",
   "metadata": {},
   "source": [
    "## 2. Distribution of event, sem:hasSubEvent\n",
    "prefix sem: <http://semanticweb.cs.vu.nl/2009/11/sem/>"
   ]
  },
  {
   "cell_type": "code",
   "execution_count": null,
   "metadata": {},
   "outputs": [],
   "source": [
    "df_sem_subevent = pd.read_parquet(\"hasSubEvent.parquet\")"
   ]
  },
  {
   "cell_type": "code",
   "execution_count": null,
   "metadata": {},
   "outputs": [],
   "source": [
    "df_sem_subevent.head(5)"
   ]
  },
  {
   "cell_type": "code",
   "execution_count": null,
   "metadata": {},
   "outputs": [],
   "source": [
    "grouped = df_sem_subevent.groupby(['predicate', 'subject']).object.count()\n",
    "grouped"
   ]
  },
  {
   "cell_type": "code",
   "execution_count": null,
   "metadata": {},
   "outputs": [],
   "source": [
    "grouped.to_csv(\"event_has_sub_event_grouped.csv\")"
   ]
  },
  {
   "cell_type": "code",
   "execution_count": null,
   "metadata": {},
   "outputs": [],
   "source": [
    "grouped = pd.read_csv(\"event_has_sub_event_grouped.csv\")\n",
    "grouped.object.describe()"
   ]
  },
  {
   "cell_type": "code",
   "execution_count": null,
   "metadata": {},
   "outputs": [],
   "source": [
    "fig = px.histogram(grouped, x='object', nbins=100)\n",
    "fig.show()"
   ]
  },
  {
   "cell_type": "markdown",
   "metadata": {},
   "source": [
    "## 3. Linking EventKG events to DBpedia\n",
    "Relevant eventkg file: `events.nq`"
   ]
  },
  {
   "cell_type": "code",
   "execution_count": null,
   "metadata": {},
   "outputs": [],
   "source": [
    "df_events = read_nq(path=os.path.join(EVENTKG_FOLDER, 'events.nq'))"
   ]
  },
  {
   "cell_type": "code",
   "execution_count": null,
   "metadata": {},
   "outputs": [],
   "source": [
    "coarser_events = grouped.subject.values\n",
    "df_events_filtered = df_events[(df_events.subject.isin(coarser_events)) & \\\n",
    "                               (df_events.object.str.startswith(\"http://dbpedia.org/\"))]"
   ]
  },
  {
   "cell_type": "code",
   "execution_count": null,
   "metadata": {},
   "outputs": [],
   "source": [
    "df_events_filtered.to_parquet(\"coarser_events_eventkg.parquet\")"
   ]
  },
  {
   "cell_type": "code",
   "execution_count": null,
   "metadata": {},
   "outputs": [],
   "source": [
    "df_events_filtered = pd.read_parquet(\"coarser_events_eventkg.parquet\")\n",
    "print(df_events_filtered.shape)\n",
    "df_events_filtered.head(5)"
   ]
  },
  {
   "cell_type": "markdown",
   "metadata": {},
   "source": [
    "## 4. Thresholding for selection/visualisation"
   ]
  },
  {
   "cell_type": "code",
   "execution_count": null,
   "metadata": {},
   "outputs": [],
   "source": [
    "grouped[['subject', 'predicate', 'object']]"
   ]
  },
  {
   "cell_type": "code",
   "execution_count": null,
   "metadata": {},
   "outputs": [],
   "source": [
    "grouped_with_dbpedia = pd.merge(\n",
    "    left=grouped[['subject', 'predicate', 'object']],\n",
    "    right=df_events_filtered[['subject', 'object']].rename(columns={\"object\": \"dbpedia\"}),\n",
    "    on='subject', how='left'\n",
    ").fillna(\"\")\n",
    "grouped_with_dbpedia.head(10)"
   ]
  },
  {
   "cell_type": "code",
   "execution_count": null,
   "metadata": {},
   "outputs": [],
   "source": [
    "grouped_with_dbpedia.sort_values(by='object', ascending=False).to_csv('info_sub_events_events.csv')"
   ]
  },
  {
   "cell_type": "code",
   "execution_count": null,
   "metadata": {},
   "outputs": [],
   "source": [
    "grouped_with_dbpedia[grouped_with_dbpedia.object > 300].sort_values(by='object', ascending=False).head(20)"
   ]
  },
  {
   "cell_type": "markdown",
   "metadata": {},
   "source": [
    "# 5. Extracting ground truth\n",
    "?e s.t. `(even£t, sem:hasSubEvent, ?e)`"
   ]
  },
  {
   "cell_type": "markdown",
   "metadata": {},
   "source": [
    "### One example"
   ]
  },
  {
   "cell_type": "code",
   "execution_count": null,
   "metadata": {},
   "outputs": [],
   "source": [
    "def get_eventkg_uri(df_mapped, dbpedia_event):\n",
    "    return df_mapped[df_mapped.dbpedia == dbpedia_event].subject.values[0]\n",
    "\n",
    "eventkg_uri_ex = get_eventkg_uri(df_mapped=grouped_with_dbpedia,\n",
    "                                 dbpedia_event='http://dbpedia.org/resource/Cold_War')\n",
    "eventkg_uri_ex"
   ]
  },
  {
   "cell_type": "code",
   "execution_count": null,
   "metadata": {},
   "outputs": [],
   "source": [
    "df = pd.read_parquet(\"hasSubEvent.parquet\")\n",
    "df[df.subject == eventkg_uri_ex].head(3)"
   ]
  },
  {
   "cell_type": "code",
   "execution_count": null,
   "metadata": {},
   "outputs": [],
   "source": [
    "sub_events_ex = df[df.subject == eventkg_uri_ex].object.unique()\n",
    "\n",
    "df_sub_events_filtered = df_events[(df_events.subject.isin(sub_events_ex)) & \\\n",
    "                               (df_events.object.str.startswith(\"http://dbpedia.org/\"))]"
   ]
  },
  {
   "cell_type": "code",
   "execution_count": null,
   "metadata": {},
   "outputs": [],
   "source": [
    "df_sub_events_filtered = df_sub_events_filtered.compute()"
   ]
  },
  {
   "cell_type": "code",
   "execution_count": null,
   "metadata": {},
   "outputs": [],
   "source": [
    "df_sub_events_filtered"
   ]
  },
  {
   "cell_type": "markdown",
   "metadata": {},
   "source": [
    "### All"
   ]
  },
  {
   "cell_type": "code",
   "execution_count": null,
   "metadata": {},
   "outputs": [],
   "source": [
    "all_sub_events = df.object.unique()\n",
    "df_all_sub_events_filtered = df_events[df_events.subject.isin(all_sub_events)]"
   ]
  },
  {
   "cell_type": "code",
   "execution_count": null,
   "metadata": {},
   "outputs": [],
   "source": [
    "df_all_sub_events_filtered = df_all_sub_events_filtered.compute()"
   ]
  },
  {
   "cell_type": "code",
   "execution_count": null,
   "metadata": {},
   "outputs": [],
   "source": [
    "df_all_sub_events_filtered.to_csv(\"all_sub_events.csv\")"
   ]
  },
  {
   "cell_type": "code",
   "execution_count": null,
   "metadata": {},
   "outputs": [],
   "source": [
    "kg_eq = df_all_sub_events_filtered[df_all_sub_events_filtered.predicate == \"http://www.w3.org/2002/07/owl#sameAs\"]\n",
    "kg_eq.head(10)"
   ]
  },
  {
   "cell_type": "code",
   "execution_count": null,
   "metadata": {},
   "outputs": [],
   "source": [
    "kg_eq['type_uri'] = kg_eq.object.apply(lambda x: '/'.join(x.split('/')[:3]))\n",
    "kg_eq.head(5)"
   ]
  },
  {
   "cell_type": "code",
   "execution_count": null,
   "metadata": {},
   "outputs": [],
   "source": [
    "grouped_with_dbpedia_sub_event = pd.merge(\n",
    "    left=df_sem_subevent[['subject', 'predicate', 'object']],\n",
    "    right=kg_eq[['subject', 'object', 'type_uri']].rename(\n",
    "        columns={\"subject\": \"object\", \"object\": \"kg_object\"}),\n",
    "    on='object', how='left'\n",
    ").fillna(\"\")\n",
    "grouped_with_dbpedia_sub_event[['subject', 'object', 'kg_object', 'type_uri']].head(5)"
   ]
  },
  {
   "cell_type": "code",
   "execution_count": null,
   "metadata": {},
   "outputs": [],
   "source": [
    "grouped_with_dbpedia_sub_event.groupby(['subject', 'type_uri']).agg({'object': 'count'})"
   ]
  },
  {
   "cell_type": "code",
   "execution_count": null,
   "metadata": {},
   "outputs": [],
   "source": [
    "test = grouped_with_dbpedia_sub_event \\\n",
    "    .groupby(['subject', 'type_uri']) \\\n",
    "        .agg({'object': 'count'}) \\\n",
    "            .reset_index(level=0).reset_index(level=0)\n",
    "test"
   ]
  },
  {
   "cell_type": "code",
   "execution_count": null,
   "metadata": {},
   "outputs": [],
   "source": [
    "TYPE_URI = \"http://dbpedia.org\"\n",
    "only_en_dbpedia = test[test.type_uri == TYPE_URI].sort_values(by='object', ascending=False)\n",
    "only_en_dbpedia"
   ]
  },
  {
   "cell_type": "code",
   "execution_count": null,
   "metadata": {},
   "outputs": [],
   "source": [
    "df_events_filtered_pd = df_events_filtered.compute()"
   ]
  },
  {
   "cell_type": "code",
   "execution_count": null,
   "metadata": {},
   "outputs": [],
   "source": [
    "test2 = pd.merge(\n",
    "    left=only_en_dbpedia[['subject', 'object']],\n",
    "    right=df_events_filtered_pd[['subject', 'object']].rename(columns={\"object\": \"dbpedia\"}),\n",
    "    on='subject', how='left'\n",
    ").fillna(\"\")\n",
    "test2.head(10)"
   ]
  },
  {
   "cell_type": "code",
   "execution_count": null,
   "metadata": {},
   "outputs": [],
   "source": [
    "test2.head(1).subject.values"
   ]
  },
  {
   "cell_type": "code",
   "execution_count": null,
   "metadata": {},
   "outputs": [],
   "source": [
    "test2[test2.dbpedia != '']"
   ]
  },
  {
   "cell_type": "code",
   "execution_count": null,
   "metadata": {},
   "outputs": [],
   "source": [
    "one_event = ['http://eventKG.l3s.uni-hannover.de/resource/event_58557']\n",
    "df_one_event = df_events[(df_events.subject.isin(one_event))]"
   ]
  },
  {
   "cell_type": "code",
   "execution_count": null,
   "metadata": {},
   "outputs": [],
   "source": [
    "df_one_event = df_one_event.compute()"
   ]
  },
  {
   "cell_type": "code",
   "execution_count": null,
   "metadata": {},
   "outputs": [],
   "source": [
    "df_one_event"
   ]
  },
  {
   "cell_type": "code",
   "execution_count": null,
   "metadata": {},
   "outputs": [],
   "source": [
    "df_events_filtered_pd[df_events_filtered_pd.subject == 'http://eventKG.l3s.uni-hannover.de/resource/event_58557']"
   ]
  },
  {
   "cell_type": "code",
   "execution_count": null,
   "metadata": {},
   "outputs": [],
   "source": [
    "import pandas as pd\n",
    "import plotly.express as px\n",
    "\n",
    "df = pd.read_csv(\"dbpedia-sub-events.csv\")\n",
    "fig = px.histogram(df, x='nbSubEvent', histnorm='percent')\n",
    "fig.show()\n"
   ]
  },
  {
   "cell_type": "code",
   "execution_count": null,
   "metadata": {},
   "outputs": [],
   "source": [
    "import plotly.graph_objects as go\n",
    "\n",
    "import numpy as np\n",
    "\n",
    "x = df.nbSubEvent.values\n",
    "fig = go.Figure(data=[go.Histogram(x=x, cumulative_enabled=True, histnorm='percent')])\n",
    "\n",
    "fig.show()"
   ]
  },
  {
   "cell_type": "code",
   "execution_count": 1,
   "metadata": {},
   "outputs": [],
   "source": [
    "from src.hdt_interface import HDTInterface\n",
    "import pandas as pd\n",
    "\n",
    "interface = HDTInterface()\n",
    "params = {\"subject\": \"http://dbpedia.org/resource/2016_Summer_Olympics\"}\n",
    "\n",
    "PREDICATE = [\"http://dbpedia.org/ontology/wikiPageWikiLink\",\n",
    "                    \"http://dbpedia.org/ontology/wikiPageRedirects\",\n",
    "                    \"http://dbpedia.org/ontology/wikiPageDisambiguates\",\n",
    "                    \"http://www.w3.org/2000/01/rdf-schema#seeAlso\",\n",
    "                    \"http://xmlns.com/foaf/0.1/depiction\",\n",
    "                    \"http://xmlns.com/foaf/0.1/isPrimaryTopicOf\",\n",
    "                    \"http://dbpedia.org/ontology/thumbnail\",\n",
    "                    \"http://dbpedia.org/ontology/wikiPageExternalLink\",\n",
    "                    \"http://dbpedia.org/ontology/wikiPageID\",\n",
    "                    \"http://dbpedia.org/ontology/wikiPageLength\",\n",
    "                    \"http://dbpedia.org/ontology/wikiPageRevisionID\",\n",
    "                    \"http://dbpedia.org/property/wikiPageUsesTemplate\",\n",
    "                    \"http://www.w3.org/2002/07/owl#sameAs\",\n",
    "                    \"http://www.w3.org/ns/prov#wasDerivedFrom\",\n",
    "                    \"http://dbpedia.org/ontology/wikiPageWikiLinkText\",\n",
    "                    \"http://dbpedia.org/ontology/wikiPageOutDegree\",\n",
    "                    \"http://dbpedia.org/ontology/abstract\",\n",
    "                    \"http://www.w3.org/2000/01/rdf-schema#comment\",\n",
    "                    \"http://www.w3.org/2000/01/rdf-schema#label\"]"
   ]
  },
  {
   "cell_type": "code",
   "execution_count": 2,
   "metadata": {},
   "outputs": [],
   "source": [
    "triples = interface.run_request(params=params, filter_pred=[], filter_keep=False)\n",
    "\n",
    "filter_f = lambda x: x.startswith(\"http://dbpedia.org/\") or \\\n",
    "                            not any(x.startswith(elt) for elt in [\"http\", '\"'])\n",
    "\n",
    "triples = [elt for elt in triples if filter_f(elt[2])]\n",
    "triples = [elt for elt in triples if filter_f(elt[0])]"
   ]
  },
  {
   "cell_type": "code",
   "execution_count": 3,
   "metadata": {},
   "outputs": [],
   "source": [
    "def triple_to_df(triples):\n",
    "    return pd.DataFrame({'subject': [x[0] for x in triples],\n",
    "                         'predicate': [x[1] for x in triples],\n",
    "                         'object': [x[2] for x in triples]})"
   ]
  },
  {
   "cell_type": "code",
   "execution_count": 4,
   "metadata": {},
   "outputs": [
    {
     "data": {
      "text/plain": [
       "array(['http://www.w3.org/1999/02/22-rdf-syntax-ns#type',\n",
       "       'http://dbpedia.org/property/cauldron',\n",
       "       'http://dbpedia.org/property/stadium',\n",
       "       'http://dbpedia.org/property/summerNext',\n",
       "       'http://dbpedia.org/property/summerPrev',\n",
       "       'http://dbpedia.org/property/winterNext',\n",
       "       'http://dbpedia.org/property/winterPrev',\n",
       "       'http://purl.org/linguistics/gold/hypernym',\n",
       "       'http://purl.org/dc/terms/subject'], dtype=object)"
      ]
     },
     "execution_count": 4,
     "metadata": {},
     "output_type": "execute_result"
    }
   ],
   "source": [
    "df = triple_to_df(triples=triples)\n",
    "df = df[~df.predicate.isin(PREDICATE)]\n",
    "df.predicate.unique()"
   ]
  },
  {
   "cell_type": "code",
   "execution_count": 5,
   "metadata": {},
   "outputs": [],
   "source": [
    "df.to_csv(\"analysis.csv\")"
   ]
  },
  {
   "cell_type": "code",
   "execution_count": 21,
   "metadata": {},
   "outputs": [
    {
     "name": "stderr",
     "output_type": "stream",
     "text": [
      "0it [00:00, ?it/s]\n",
      "100%|██████████| 8/8 [00:00<00:00, 40.46it/s]\n"
     ]
    }
   ],
   "source": [
    "ingoing, outgoing, spec = interface(\n",
    "    node=\"http://dbpedia.org/resource/Érick_Barrondo\",\n",
    "    predicate=PREDICATE)"
   ]
  },
  {
   "cell_type": "code",
   "execution_count": 18,
   "metadata": {},
   "outputs": [
    {
     "name": "stderr",
     "output_type": "stream",
     "text": [
      "/var/folders/p9/2gjyjx2x3pjb2m5w91srfdq40000gp/T/ipykernel_6731/2128317523.py:2: SettingWithCopyWarning: \n",
      "A value is trying to be set on a copy of a slice from a DataFrame.\n",
      "Try using .loc[row_indexer,col_indexer] = value instead\n",
      "\n",
      "See the caveats in the documentation: https://pandas.pydata.org/pandas-docs/stable/user_guide/indexing.html#returning-a-view-versus-a-copy\n",
      "  date_df.object = date_df.object.astype(str)\n"
     ]
    },
    {
     "data": {
      "text/plain": [
       "['http://dbpedia.org/resource/2010_Commonwealth_Games',\n",
       " \"http://dbpedia.org/resource/Shooting_at_the_2014_Asian_Games_–_Men's_10_metre_air_rifle\",\n",
       " \"http://dbpedia.org/resource/Shooting_at_the_2014_Asian_Games_–_Men's_10_metre_air_rifle_team\",\n",
       " \"http://dbpedia.org/resource/Shooting_at_the_2008_Summer_Olympics_–_Men's_10_metre_air_rifle\",\n",
       " \"http://dbpedia.org/resource/Shooting_at_the_2014_Commonwealth_Games_–_Men's_10_metre_air_rifle\",\n",
       " \"http://dbpedia.org/resource/Shooting_at_the_2010_Asian_Games_–_Men's_10_metre_air_rifle_team\"]"
      ]
     },
     "execution_count": 18,
     "metadata": {},
     "output_type": "execute_result"
    }
   ],
   "source": [
    "date_df = spec[spec.predicate.isin(filtering.temporal)]\n",
    "date_df.object = date_df.object.astype(str)\n",
    "\n",
    "filtering.get_to_discard_regex(ingoing, outgoing, dates)"
   ]
  },
  {
   "cell_type": "code",
   "execution_count": 15,
   "metadata": {},
   "outputs": [],
   "source": [
    "import re\n",
    "def regex_helper(val, default_return_val):\n",
    "    \"\"\" Finding regex column name in subject str uri \"\"\"\n",
    "    pattern = \"\\\\d{4}\"\n",
    "    matches = re.findall(pattern, val)\n",
    "    if matches:\n",
    "        return str(matches[0])\n",
    "    return default_return_val"
   ]
  },
  {
   "cell_type": "code",
   "execution_count": 16,
   "metadata": {},
   "outputs": [
    {
     "data": {
      "text/html": [
       "<div>\n",
       "<style scoped>\n",
       "    .dataframe tbody tr th:only-of-type {\n",
       "        vertical-align: middle;\n",
       "    }\n",
       "\n",
       "    .dataframe tbody tr th {\n",
       "        vertical-align: top;\n",
       "    }\n",
       "\n",
       "    .dataframe thead th {\n",
       "        text-align: right;\n",
       "    }\n",
       "</style>\n",
       "<table border=\"1\" class=\"dataframe\">\n",
       "  <thead>\n",
       "    <tr style=\"text-align: right;\">\n",
       "      <th></th>\n",
       "      <th>subject</th>\n",
       "      <th>predicate</th>\n",
       "      <th>object</th>\n",
       "      <th>type_df</th>\n",
       "      <th>regex_helper</th>\n",
       "    </tr>\n",
       "  </thead>\n",
       "  <tbody>\n",
       "    <tr>\n",
       "      <th>0</th>\n",
       "      <td>http://dbpedia.org/resource/Sushil_Kumar</td>\n",
       "      <td>http://dbpedia.org/property/after</td>\n",
       "      <td>http://dbpedia.org/resource/Abhinav_Bindra</td>\n",
       "      <td>ingoing</td>\n",
       "      <td>2016</td>\n",
       "    </tr>\n",
       "    <tr>\n",
       "      <th>1</th>\n",
       "      <td>http://dbpedia.org/resource/2010_Commonwealth_...</td>\n",
       "      <td>http://dbpedia.org/property/athlete'sOath</td>\n",
       "      <td>http://dbpedia.org/resource/Abhinav_Bindra</td>\n",
       "      <td>ingoing</td>\n",
       "      <td>2010</td>\n",
       "    </tr>\n",
       "    <tr>\n",
       "      <th>2</th>\n",
       "      <td>http://dbpedia.org/resource/A_Shot_at_History</td>\n",
       "      <td>http://dbpedia.org/property/author</td>\n",
       "      <td>http://dbpedia.org/resource/Abhinav_Bindra</td>\n",
       "      <td>ingoing</td>\n",
       "      <td>2016</td>\n",
       "    </tr>\n",
       "    <tr>\n",
       "      <th>3</th>\n",
       "      <td>http://dbpedia.org/resource/Manpreet_Singh_(fi...</td>\n",
       "      <td>http://dbpedia.org/property/before</td>\n",
       "      <td>http://dbpedia.org/resource/Abhinav_Bindra</td>\n",
       "      <td>ingoing</td>\n",
       "      <td>2016</td>\n",
       "    </tr>\n",
       "    <tr>\n",
       "      <th>4</th>\n",
       "      <td>http://dbpedia.org/resource/Mary_Kom</td>\n",
       "      <td>http://dbpedia.org/property/before</td>\n",
       "      <td>http://dbpedia.org/resource/Abhinav_Bindra</td>\n",
       "      <td>ingoing</td>\n",
       "      <td>2016</td>\n",
       "    </tr>\n",
       "    <tr>\n",
       "      <th>5</th>\n",
       "      <td>http://dbpedia.org/resource/Shooting_at_the_20...</td>\n",
       "      <td>http://dbpedia.org/property/bronze</td>\n",
       "      <td>http://dbpedia.org/resource/Abhinav_Bindra</td>\n",
       "      <td>ingoing</td>\n",
       "      <td>2014</td>\n",
       "    </tr>\n",
       "    <tr>\n",
       "      <th>6</th>\n",
       "      <td>http://dbpedia.org/resource/Shooting_at_the_20...</td>\n",
       "      <td>http://dbpedia.org/property/bronze</td>\n",
       "      <td>http://dbpedia.org/resource/Abhinav_Bindra</td>\n",
       "      <td>ingoing</td>\n",
       "      <td>2014</td>\n",
       "    </tr>\n",
       "    <tr>\n",
       "      <th>7</th>\n",
       "      <td>http://dbpedia.org/resource/India_at_the_2016_...</td>\n",
       "      <td>http://dbpedia.org/property/flagbearer</td>\n",
       "      <td>http://dbpedia.org/resource/Abhinav_Bindra</td>\n",
       "      <td>ingoing</td>\n",
       "      <td>2016</td>\n",
       "    </tr>\n",
       "    <tr>\n",
       "      <th>8</th>\n",
       "      <td>http://dbpedia.org/resource/Shooting_at_the_20...</td>\n",
       "      <td>http://dbpedia.org/property/gold</td>\n",
       "      <td>http://dbpedia.org/resource/Abhinav_Bindra</td>\n",
       "      <td>ingoing</td>\n",
       "      <td>2008</td>\n",
       "    </tr>\n",
       "    <tr>\n",
       "      <th>9</th>\n",
       "      <td>http://dbpedia.org/resource/Shooting_at_the_20...</td>\n",
       "      <td>http://dbpedia.org/property/gold</td>\n",
       "      <td>http://dbpedia.org/resource/Abhinav_Bindra</td>\n",
       "      <td>ingoing</td>\n",
       "      <td>2014</td>\n",
       "    </tr>\n",
       "    <tr>\n",
       "      <th>10</th>\n",
       "      <td>http://dbpedia.org/resource/List_of_The_Doon_S...</td>\n",
       "      <td>http://dbpedia.org/property/name</td>\n",
       "      <td>http://dbpedia.org/resource/Abhinav_Bindra</td>\n",
       "      <td>ingoing</td>\n",
       "      <td>2016</td>\n",
       "    </tr>\n",
       "    <tr>\n",
       "      <th>11</th>\n",
       "      <td>http://dbpedia.org/resource/Shooting_at_the_20...</td>\n",
       "      <td>http://dbpedia.org/property/silver</td>\n",
       "      <td>http://dbpedia.org/resource/Abhinav_Bindra</td>\n",
       "      <td>ingoing</td>\n",
       "      <td>2010</td>\n",
       "    </tr>\n",
       "    <tr>\n",
       "      <th>12</th>\n",
       "      <td>http://dbpedia.org/resource/A_Shot_at_History</td>\n",
       "      <td>http://dbpedia.org/ontology/author</td>\n",
       "      <td>http://dbpedia.org/resource/Abhinav_Bindra</td>\n",
       "      <td>ingoing</td>\n",
       "      <td>2016</td>\n",
       "    </tr>\n",
       "    <tr>\n",
       "      <th>13</th>\n",
       "      <td>http://dbpedia.org/resource/Shooting_at_the_20...</td>\n",
       "      <td>http://dbpedia.org/ontology/goldMedalist</td>\n",
       "      <td>http://dbpedia.org/resource/Abhinav_Bindra</td>\n",
       "      <td>ingoing</td>\n",
       "      <td>2008</td>\n",
       "    </tr>\n",
       "  </tbody>\n",
       "</table>\n",
       "</div>"
      ],
      "text/plain": [
       "                                              subject  \\\n",
       "0            http://dbpedia.org/resource/Sushil_Kumar   \n",
       "1   http://dbpedia.org/resource/2010_Commonwealth_...   \n",
       "2       http://dbpedia.org/resource/A_Shot_at_History   \n",
       "3   http://dbpedia.org/resource/Manpreet_Singh_(fi...   \n",
       "4                http://dbpedia.org/resource/Mary_Kom   \n",
       "5   http://dbpedia.org/resource/Shooting_at_the_20...   \n",
       "6   http://dbpedia.org/resource/Shooting_at_the_20...   \n",
       "7   http://dbpedia.org/resource/India_at_the_2016_...   \n",
       "8   http://dbpedia.org/resource/Shooting_at_the_20...   \n",
       "9   http://dbpedia.org/resource/Shooting_at_the_20...   \n",
       "10  http://dbpedia.org/resource/List_of_The_Doon_S...   \n",
       "11  http://dbpedia.org/resource/Shooting_at_the_20...   \n",
       "12      http://dbpedia.org/resource/A_Shot_at_History   \n",
       "13  http://dbpedia.org/resource/Shooting_at_the_20...   \n",
       "\n",
       "                                    predicate  \\\n",
       "0           http://dbpedia.org/property/after   \n",
       "1   http://dbpedia.org/property/athlete'sOath   \n",
       "2          http://dbpedia.org/property/author   \n",
       "3          http://dbpedia.org/property/before   \n",
       "4          http://dbpedia.org/property/before   \n",
       "5          http://dbpedia.org/property/bronze   \n",
       "6          http://dbpedia.org/property/bronze   \n",
       "7      http://dbpedia.org/property/flagbearer   \n",
       "8            http://dbpedia.org/property/gold   \n",
       "9            http://dbpedia.org/property/gold   \n",
       "10           http://dbpedia.org/property/name   \n",
       "11         http://dbpedia.org/property/silver   \n",
       "12         http://dbpedia.org/ontology/author   \n",
       "13   http://dbpedia.org/ontology/goldMedalist   \n",
       "\n",
       "                                        object  type_df regex_helper  \n",
       "0   http://dbpedia.org/resource/Abhinav_Bindra  ingoing         2016  \n",
       "1   http://dbpedia.org/resource/Abhinav_Bindra  ingoing         2010  \n",
       "2   http://dbpedia.org/resource/Abhinav_Bindra  ingoing         2016  \n",
       "3   http://dbpedia.org/resource/Abhinav_Bindra  ingoing         2016  \n",
       "4   http://dbpedia.org/resource/Abhinav_Bindra  ingoing         2016  \n",
       "5   http://dbpedia.org/resource/Abhinav_Bindra  ingoing         2014  \n",
       "6   http://dbpedia.org/resource/Abhinav_Bindra  ingoing         2014  \n",
       "7   http://dbpedia.org/resource/Abhinav_Bindra  ingoing         2016  \n",
       "8   http://dbpedia.org/resource/Abhinav_Bindra  ingoing         2008  \n",
       "9   http://dbpedia.org/resource/Abhinav_Bindra  ingoing         2014  \n",
       "10  http://dbpedia.org/resource/Abhinav_Bindra  ingoing         2016  \n",
       "11  http://dbpedia.org/resource/Abhinav_Bindra  ingoing         2010  \n",
       "12  http://dbpedia.org/resource/Abhinav_Bindra  ingoing         2016  \n",
       "13  http://dbpedia.org/resource/Abhinav_Bindra  ingoing         2008  "
      ]
     },
     "execution_count": 16,
     "metadata": {},
     "output_type": "execute_result"
    }
   ],
   "source": [
    "ingoing['regex_helper']= ingoing[\"subject\"].apply(lambda x: regex_helper(x, \"2016\"))\n",
    "ingoing"
   ]
  },
  {
   "cell_type": "code",
   "execution_count": 22,
   "metadata": {},
   "outputs": [
    {
     "data": {
      "text/plain": [
       "array([], dtype=float64)"
      ]
     },
     "execution_count": 22,
     "metadata": {},
     "output_type": "execute_result"
    }
   ],
   "source": [
    "ingoing.subject.values"
   ]
  },
  {
   "cell_type": "code",
   "execution_count": 23,
   "metadata": {},
   "outputs": [
    {
     "data": {
      "text/plain": [
       "array(['http://dbpedia.org/resource/Juan_Ignacio_Maegli',\n",
       "       'http://dbpedia.org/resource/Alta_Verapaz_Department',\n",
       "       'http://dbpedia.org/resource/Guatemala',\n",
       "       'http://dbpedia.org/resource/San_Cristóbal_Verapaz',\n",
       "       'http://dbpedia.org/resource/2016_Summer_Olympics',\n",
       "       'http://dbpedia.org/ontology/Athlete',\n",
       "       'http://dbpedia.org/ontology/Agent',\n",
       "       'http://dbpedia.org/ontology/Person'], dtype=object)"
      ]
     },
     "execution_count": 23,
     "metadata": {},
     "output_type": "execute_result"
    }
   ],
   "source": [
    "outgoing.object.values"
   ]
  },
  {
   "cell_type": "code",
   "execution_count": 19,
   "metadata": {},
   "outputs": [
    {
     "name": "stderr",
     "output_type": "stream",
     "text": [
      "/Users/ines/Projects/graph_search_framework/src/filtering.py:103: SettingWithCopyWarning: \n",
      "A value is trying to be set on a copy of a slice from a DataFrame.\n",
      "Try using .loc[row_indexer,col_indexer] = value instead\n",
      "\n",
      "See the caveats in the documentation: https://pandas.pydata.org/pandas-docs/stable/user_guide/indexing.html#returning-a-view-versus-a-copy\n",
      "  date_df.object = date_df.object.astype(str)\n"
     ]
    }
   ],
   "source": [
    "from src.filtering import Filtering\n",
    "\n",
    "filtering = Filtering(args={\"what\": 1, \"where\": 1, \"when\": 1})\n",
    "dates = [\"2016-01-01\", \"2016-12-31\"]\n",
    "\n",
    "to_discard = filtering(ingoing, outgoing, spec, dates)"
   ]
  },
  {
   "cell_type": "code",
   "execution_count": 20,
   "metadata": {},
   "outputs": [
    {
     "data": {
      "text/plain": [
       "['http://dbpedia.org/resource/Zirakpur',\n",
       " 'http://dbpedia.org/resource/India',\n",
       " 'http://dbpedia.org/resource/Punjab,_India',\n",
       " 'http://dbpedia.org/resource/Uttarakhand',\n",
       " 'http://dbpedia.org/resource/Dehradun',\n",
       " \"http://dbpedia.org/resource/Shooting_at_the_2008_Summer_Olympics_–_Men's_10_metre_air_rifle\",\n",
       " \"http://dbpedia.org/resource/Shooting_at_the_2014_Asian_Games_–_Men's_10_metre_air_rifle\",\n",
       " 'http://dbpedia.org/resource/2010_Commonwealth_Games',\n",
       " \"http://dbpedia.org/resource/Shooting_at_the_2010_Asian_Games_–_Men's_10_metre_air_rifle_team\",\n",
       " \"http://dbpedia.org/resource/Shooting_at_the_2014_Asian_Games_–_Men's_10_metre_air_rifle_team\",\n",
       " \"http://dbpedia.org/resource/Shooting_at_the_2014_Commonwealth_Games_–_Men's_10_metre_air_rifle\"]"
      ]
     },
     "execution_count": 20,
     "metadata": {},
     "output_type": "execute_result"
    }
   ],
   "source": [
    "to_discard"
   ]
  },
  {
   "cell_type": "code",
   "execution_count": null,
   "metadata": {},
   "outputs": [],
   "source": [
    "spec.subject.values"
   ]
  },
  {
   "cell_type": "code",
   "execution_count": null,
   "metadata": {},
   "outputs": [],
   "source": [
    "to_discard"
   ]
  },
  {
   "cell_type": "code",
   "execution_count": null,
   "metadata": {},
   "outputs": [],
   "source": [
    "spec.to_csv(\"analysis.csv\")"
   ]
  },
  {
   "cell_type": "code",
   "execution_count": null,
   "metadata": {},
   "outputs": [],
   "source": [
    "temporal = filtering.dates + filtering.start_dates + filtering.end_dates\n",
    "date_df = spec[spec.predicate.isin(temporal)]\n",
    "date_df.object = date_df.object.astype(str)"
   ]
  },
  {
   "cell_type": "code",
   "execution_count": null,
   "metadata": {},
   "outputs": [],
   "source": [
    "spec[spec.regex_helper > dates[1][:4]]"
   ]
  },
  {
   "cell_type": "code",
   "execution_count": null,
   "metadata": {},
   "outputs": [],
   "source": [
    "filtering.get_to_discard_regex(df_pd=spec, dates=dates)"
   ]
  },
  {
   "cell_type": "code",
   "execution_count": null,
   "metadata": {},
   "outputs": [],
   "source": []
  }
 ],
 "metadata": {
  "interpreter": {
   "hash": "afb6971e04c6e62d7bdf87aae553a4c9fea1ded343f2e99e4ce796810d312f94"
  },
  "kernelspec": {
   "display_name": "Python 3.9.7 ('graph_search_framework')",
   "language": "python",
   "name": "python3"
  },
  "language_info": {
   "codemirror_mode": {
    "name": "ipython",
    "version": 3
   },
   "file_extension": ".py",
   "mimetype": "text/x-python",
   "name": "python",
   "nbconvert_exporter": "python",
   "pygments_lexer": "ipython3",
   "version": "3.9.7"
  },
  "orig_nbformat": 4
 },
 "nbformat": 4,
 "nbformat_minor": 2
}
